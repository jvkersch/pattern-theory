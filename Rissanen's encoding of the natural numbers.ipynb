{
 "cells": [
  {
   "cell_type": "markdown",
   "metadata": {},
   "source": [
    "_Rissanen's code_ provides a prefix encoding of the natural numbers. Each number $n \\in \\mathbb{N}$ is encoded as follows: you take the binary encoding $b(n)$ of the number $n$, and you prefix it with the binary encoding of $\\#b(n)$, the length of $b(n)$. If that length is 3 or less, you're done. Otherwise, you prefix the code word with the binary encoding of $\\#b(\\#b(n))$, and so on.\n",
    "\n",
    "For instance, for $n = 27$, we have $b(27) = 11011$, which is of length 5. Now, $b(5) = 101$, so the algorithm terminates and Rissanen's encoding is given by $R(n) = 10111011$.\n",
    "\n",
    "To decode, you start at the left side of the code word $\\sigma$. Set $m = 3$ and write $\\sigma$ as $\\sigma_1\\sigma_2$, where $\\sigma_1$ is the initial prefix of length $m$ and $\\sigma_2$ is the rest. If $\\sigma_2 = 0$, then the decoded value $n$ is given (in binary) by $\\sigma_1$. Otherwise, set $m$ to the value of $\\sigma_1$ (in binary), let $\\sigma = \\sigma_2$, and repeat.\n",
    "\n",
    "Using the example of $R(n) = 10111011$, we have that $\\sigma_1 = 101$, which is 5 in binary, and $\\sigma_2 = 11011$. As $\\sigma_2$ is not zero, we set $m = \\sigma_1 = 5$, and in the next step of the algorithm $\\sigma = 11011$. As instructed by the algorithm, we now take the first 5 binary digits of $\\sigma$ to be our new $\\sigma_1 = 11011$, leaving $\\sigma_2$ to be the empty string. This signals that the algorithm has terminated, and the decoded value is $\\sigma_1 = 11011 = 27$."
   ]
  },
  {
   "cell_type": "code",
   "execution_count": 9,
   "metadata": {
    "collapsed": false
   },
   "outputs": [],
   "source": [
    "def _b(n):\n",
    "    if n == 1:\n",
    "        return '00'\n",
    "    elif n == 2:\n",
    "        return '010'\n",
    "    elif n == 3:\n",
    "        return '011'\n",
    "    else:\n",
    "        return bin(n)[2:]\n",
    "\n",
    "def encode(n):\n",
    "    \"\"\" Encode a natural number ``n`` using Rissanen's encoding.\n",
    "    \"\"\"\n",
    "    if n <= 0:\n",
    "        raise ValueError(\"Value to be encoded must be positive, but {} was given.\".format(n))\n",
    "    \n",
    "    s = ''\n",
    "    while True:\n",
    "        d = _b(n)\n",
    "        s = d + s\n",
    "        if len(d) <= 3:\n",
    "            break\n",
    "        n = len(d)\n",
    "    return s\n",
    "\n",
    "\n",
    "def decode(s):\n",
    "    m = 3\n",
    "    while True:\n",
    "        if len(s) < m + 1:\n",
    "            raise ValueError(\"Unexpected end.\")\n",
    "        s1, s2 = s[:m], s[m:]\n",
    "        if s2[0] == '0':\n",
    "            if len(s2) > 1:\n",
    "                # There is more to decode.\n",
    "                raise ValueError(\"Trailing digits: {!r}\".format(s2[1:]))\n",
    "            else:\n",
    "                return int(s1, base=2)\n",
    "        else:\n",
    "            m = int(s1, base=2)\n"
   ]
  },
  {
   "cell_type": "code",
   "execution_count": 10,
   "metadata": {
    "collapsed": false
   },
   "outputs": [
    {
     "name": "stdout",
     "output_type": "stream",
     "text": [
      "1 00\n",
      "2 010\n",
      "3 011\n",
      "4 100\n",
      "5 101\n",
      "6 110\n",
      "7 111\n",
      "8 1001000\n",
      "9 1001001\n",
      "10 1001010\n",
      "11 1001011\n",
      "12 1001100\n",
      "13 1001101\n",
      "14 1001110\n",
      "15 1001111\n",
      "16 10110000\n",
      "17 10110001\n",
      "18 10110010\n",
      "19 10110011\n",
      "20 10110100\n",
      "21 10110101\n",
      "22 10110110\n",
      "23 10110111\n",
      "24 10111000\n",
      "25 10111001\n"
     ]
    }
   ],
   "source": [
    "for i in range(1, 26):\n",
    "    print i, encode(i)"
   ]
  },
  {
   "cell_type": "markdown",
   "metadata": {},
   "source": [
    "Upon closer examination, Rissanen's algorithm has a very simple recursive description: for a value $n$, we first express $n$ in binary, and then we prefix it with the Rissanen encoding of the length of the binary expression of $n$. We can use that to provide an alternative implementation, but let's use this form to provide an expression for the _length_ of the code word $R(n)$. As the length of a binary expression $m$ is given by $\\lceil \\log_2 m \\rceil$, we have that\n",
    "$$\n",
    "   \\# R(n) = \\#R(\\#n) + \\# n,\n",
    "$$\n",
    "where $\\# n = \\lceil \\log_2 n \\rceil$, the length of $n$ in binary. To properly terminate this recursion, we set ..."
   ]
  },
  {
   "cell_type": "code",
   "execution_count": null,
   "metadata": {
    "collapsed": true
   },
   "outputs": [],
   "source": [
    "16 -> 10110000 \n",
    "\n",
    "l(16) = l(5) + 5\n",
    "l(5) = l(3) + 3"
   ]
  }
 ],
 "metadata": {
  "kernelspec": {
   "display_name": "Python 2",
   "language": "python",
   "name": "python2"
  },
  "language_info": {
   "codemirror_mode": {
    "name": "ipython",
    "version": 2
   },
   "file_extension": ".py",
   "mimetype": "text/x-python",
   "name": "python",
   "nbconvert_exporter": "python",
   "pygments_lexer": "ipython2",
   "version": "2.7.6"
  }
 },
 "nbformat": 4,
 "nbformat_minor": 0
}
