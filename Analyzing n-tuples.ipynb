{
 "cells": [
  {
   "cell_type": "markdown",
   "metadata": {},
   "source": [
    "Analyzing n-tuples in some databases\n",
    "--"
   ]
  },
  {
   "cell_type": "code",
   "execution_count": 1,
   "metadata": {
    "collapsed": true
   },
   "outputs": [],
   "source": [
    "%matplotlib inline"
   ]
  },
  {
   "cell_type": "code",
   "execution_count": 83,
   "metadata": {
    "collapsed": false
   },
   "outputs": [
    {
     "name": "stdout",
     "output_type": "stream",
     "text": [
      "﻿The Project Gutenberg EBook of Pride and Prejudice, by Jane Austen\r\n",
      "\r\n",
      "This eBook is for the use of anyone anywhere at no cost and with\r\n",
      "almost no restrictions whatsoever.  You may copy it, give it aw\n"
     ]
    }
   ],
   "source": [
    "import requests\n",
    "resp = requests.get('http://www.gutenberg.org/cache/epub/1342/pg1342.txt')\n",
    "print resp.text[:200]"
   ]
  },
  {
   "cell_type": "code",
   "execution_count": 3,
   "metadata": {
    "collapsed": false
   },
   "outputs": [],
   "source": [
    "text_start_line = 'It is a truth universally acknowledged'\n",
    "text_end_line = 'End of the Project Gutenberg EBook of Pride and Prejudice, by Jane Austen'"
   ]
  },
  {
   "cell_type": "code",
   "execution_count": 4,
   "metadata": {
    "collapsed": false
   },
   "outputs": [],
   "source": [
    "text = resp.text\n",
    "text = text[text.find(text_start_line):text.find(text_end_line)]"
   ]
  },
  {
   "cell_type": "code",
   "execution_count": 5,
   "metadata": {
    "collapsed": false
   },
   "outputs": [
    {
     "name": "stdout",
     "output_type": "stream",
     "text": [
      "It is a truth universally acknowledged, that a single man in possession\r\n",
      "of a good fortune, must be in want of a wife.\r\n",
      "\r\n",
      "However little known the feelings or v\n"
     ]
    }
   ],
   "source": [
    "print text[:160]"
   ]
  },
  {
   "cell_type": "code",
   "execution_count": 6,
   "metadata": {
    "collapsed": false,
    "scrolled": true
   },
   "outputs": [
    {
     "name": "stdout",
     "output_type": "stream",
     "text": [
      "hey were both ever\r\n",
      "sensible of the warmest gratitude towards the persons who, by bringing\r\n",
      "her into Derbyshire, had been the means of uniting them.\r\n",
      "\r\n",
      "\r\n",
      "\r\n",
      "\r\n",
      "\r\n",
      "\n"
     ]
    }
   ],
   "source": [
    "print text[-160:]"
   ]
  },
  {
   "cell_type": "code",
   "execution_count": 7,
   "metadata": {
    "collapsed": false
   },
   "outputs": [
    {
     "data": {
      "text/plain": [
       "unicode"
      ]
     },
     "execution_count": 7,
     "metadata": {},
     "output_type": "execute_result"
    }
   ],
   "source": [
    "type(text)"
   ]
  },
  {
   "cell_type": "code",
   "execution_count": null,
   "metadata": {
    "collapsed": false
   },
   "outputs": [],
   "source": []
  },
  {
   "cell_type": "code",
   "execution_count": 8,
   "metadata": {
    "collapsed": false
   },
   "outputs": [],
   "source": [
    "# Strip out non-alphabetical characters\n",
    "import re\n",
    "text = text.lower()\n",
    "text = re.sub(\"[^a-z\\s]+\", \"\", text)\n",
    "text = re.sub(\"\\s+\", \" \", text)"
   ]
  },
  {
   "cell_type": "code",
   "execution_count": 9,
   "metadata": {
    "collapsed": false
   },
   "outputs": [
    {
     "name": "stdout",
     "output_type": "stream",
     "text": [
      "it is a truth universally acknowledged that a single man in possession of a good fortune must be in want of a wife however little known the feelings or views of\n"
     ]
    }
   ],
   "source": [
    "print text[:160]"
   ]
  },
  {
   "cell_type": "code",
   "execution_count": 10,
   "metadata": {
    "collapsed": false
   },
   "outputs": [
    {
     "name": "stdout",
     "output_type": "stream",
     "text": [
      "Counter({u' ': 121463, u'e': 69366, u't': 46641, u'a': 41681, u'o': 40039, u'i': 37830, u'n': 37687, u'h': 34066, u's': 33109, u'r': 32295, u'd': 22299, u'l': 21592, u'u': 14985, u'm': 14764, u'c': 13460, u'y': 12706, u'w': 12305, u'f': 12000, u'g': 10030, u'b': 9087, u'p': 8224, u'v': 5726, u'k': 3208, u'z': 936, u'j': 871, u'x': 839, u'q': 627})\n"
     ]
    }
   ],
   "source": [
    "# Probabilities of individual letters\n",
    "from collections import Counter, OrderedDict\n",
    "counter = Counter(text)\n",
    "print counter"
   ]
  },
  {
   "cell_type": "code",
   "execution_count": 11,
   "metadata": {
    "collapsed": false
   },
   "outputs": [],
   "source": [
    "import string\n",
    "import pandas as pd\n",
    "letters = list(string.lowercase) + [' ']\n",
    "counts = pd.Series(\n",
    "    index=letters,\n",
    "    data=[counter[letter] for letter in letters]\n",
    ")"
   ]
  },
  {
   "cell_type": "code",
   "execution_count": 12,
   "metadata": {
    "collapsed": false
   },
   "outputs": [],
   "source": [
    "import numpy as np"
   ]
  },
  {
   "cell_type": "code",
   "execution_count": 13,
   "metadata": {
    "collapsed": false
   },
   "outputs": [
    {
     "name": "stdout",
     "output_type": "stream",
     "text": [
      "a     41681\n",
      "b      9087\n",
      "c     13460\n",
      "d     22299\n",
      "e     69366\n",
      "f     12000\n",
      "g     10030\n",
      "h     34066\n",
      "i     37830\n",
      "j       871\n",
      "k      3208\n",
      "l     21592\n",
      "m     14764\n",
      "n     37687\n",
      "o     40039\n",
      "p      8224\n",
      "q       627\n",
      "r     32295\n",
      "s     33109\n",
      "t     46641\n",
      "u     14985\n",
      "v      5726\n",
      "w     12305\n",
      "x       839\n",
      "y     12706\n",
      "z       936\n",
      "     121463\n",
      "dtype: int64\n"
     ]
    }
   ],
   "source": [
    "print counts"
   ]
  },
  {
   "cell_type": "code",
   "execution_count": 14,
   "metadata": {
    "collapsed": false
   },
   "outputs": [],
   "source": [
    "import matplotlib\n",
    "matplotlib.style.use('ggplot')"
   ]
  },
  {
   "cell_type": "code",
   "execution_count": 15,
   "metadata": {
    "collapsed": true
   },
   "outputs": [],
   "source": [
    "# Entropy of P1"
   ]
  },
  {
   "cell_type": "code",
   "execution_count": 16,
   "metadata": {
    "collapsed": true
   },
   "outputs": [],
   "source": [
    "pdf = counts / np.sum(counts)"
   ]
  },
  {
   "cell_type": "code",
   "execution_count": 17,
   "metadata": {
    "collapsed": false
   },
   "outputs": [
    {
     "data": {
      "text/plain": [
       "<matplotlib.axes._subplots.AxesSubplot at 0x10d606450>"
      ]
     },
     "execution_count": 17,
     "metadata": {},
     "output_type": "execute_result"
    },
    {
     "data": {
      "image/png": "[encoded data removed]",
      "text/plain": [
       "<matplotlib.figure.Figure at 0x10be91950>"
      ]
     },
     "metadata": {},
     "output_type": "display_data"
    }
   ],
   "source": [
    "pdf.plot(kind='bar')"
   ]
  },
  {
   "cell_type": "code",
   "execution_count": 18,
   "metadata": {
    "collapsed": false
   },
   "outputs": [
    {
     "name": "stdout",
     "output_type": "stream",
     "text": [
      "4.09931661652\n"
     ]
    }
   ],
   "source": [
    "H = -np.dot(pdf, np.log2(pdf))\n",
    "print H"
   ]
  },
  {
   "cell_type": "code",
   "execution_count": 19,
   "metadata": {
    "collapsed": false
   },
   "outputs": [
    {
     "name": "stdout",
     "output_type": "stream",
     "text": [
      "4.09931661652\n"
     ]
    }
   ],
   "source": [
    "from scipy.stats import entropy\n",
    "print entropy(pdf, base=2)"
   ]
  },
  {
   "cell_type": "code",
   "execution_count": 20,
   "metadata": {
    "collapsed": true
   },
   "outputs": [],
   "source": [
    "# P2 -- distribution of letter pairs"
   ]
  },
  {
   "cell_type": "code",
   "execution_count": 21,
   "metadata": {
    "collapsed": false
   },
   "outputs": [],
   "source": [
    "digrams = zip(text[:-1], text[1:])"
   ]
  },
  {
   "cell_type": "code",
   "execution_count": 22,
   "metadata": {
    "collapsed": false
   },
   "outputs": [
    {
     "data": {
      "text/plain": [
       "[(u'i', u't'),\n",
       " (u't', u' '),\n",
       " (u' ', u'i'),\n",
       " (u'i', u's'),\n",
       " (u's', u' '),\n",
       " (u' ', u'a'),\n",
       " (u'a', u' '),\n",
       " (u' ', u't'),\n",
       " (u't', u'r'),\n",
       " (u'r', u'u')]"
      ]
     },
     "execution_count": 22,
     "metadata": {},
     "output_type": "execute_result"
    }
   ],
   "source": [
    "digrams[:10]"
   ]
  },
  {
   "cell_type": "code",
   "execution_count": 23,
   "metadata": {
    "collapsed": false
   },
   "outputs": [],
   "source": [
    "counts = Counter(digrams)"
   ]
  },
  {
   "cell_type": "code",
   "execution_count": 24,
   "metadata": {
    "collapsed": false
   },
   "outputs": [
    {
     "data": {
      "text/plain": [
       "[((u'e', u' '), 21949),\n",
       " ((u' ', u't'), 15969),\n",
       " ((u'h', u'e'), 14823),\n",
       " ((u't', u'h'), 13748),\n",
       " ((u'd', u' '), 13739)]"
      ]
     },
     "execution_count": 24,
     "metadata": {},
     "output_type": "execute_result"
    }
   ],
   "source": [
    "counts.most_common(5)"
   ]
  },
  {
   "cell_type": "code",
   "execution_count": 25,
   "metadata": {
    "collapsed": false
   },
   "outputs": [],
   "source": [
    "first_letter, second_letter = zip(*counts.keys())\n",
    "values = counts.values()"
   ]
  },
  {
   "cell_type": "code",
   "execution_count": 26,
   "metadata": {
    "collapsed": false
   },
   "outputs": [],
   "source": [
    "p2 = pd.DataFrame({\n",
    "    'First Letter': first_letter,\n",
    "    'Second Letter': second_letter,\n",
    "    'Count': values\n",
    "}, columns=['First Letter', 'Second Letter', 'Count'])\n",
    "\n",
    "p2['Count'] /= p2['Count'].sum()"
   ]
  },
  {
   "cell_type": "code",
   "execution_count": null,
   "metadata": {
    "collapsed": false
   },
   "outputs": [],
   "source": []
  },
  {
   "cell_type": "code",
   "execution_count": 27,
   "metadata": {
    "collapsed": false
   },
   "outputs": [],
   "source": [
    "frequency_table = p2.pivot(index='First Letter', columns='Second Letter', values='Count')"
   ]
  },
  {
   "cell_type": "code",
   "execution_count": 28,
   "metadata": {
    "collapsed": false
   },
   "outputs": [
    {
     "data": {
      "text/html": [
       "<div style=\"max-height:1000px;max-width:1500px;overflow:auto;\">\n",
       "<table border=\"1\" class=\"dataframe\">\n",
       "  <thead>\n",
       "    <tr style=\"text-align: right;\">\n",
       "      <th>Second Letter</th>\n",
       "      <th>a</th>\n",
       "      <th>b</th>\n",
       "      <th>c</th>\n",
       "      <th>d</th>\n",
       "      <th>e</th>\n",
       "      <th>f</th>\n",
       "    </tr>\n",
       "    <tr>\n",
       "      <th>First Letter</th>\n",
       "      <th></th>\n",
       "      <th></th>\n",
       "      <th></th>\n",
       "      <th></th>\n",
       "      <th></th>\n",
       "      <th></th>\n",
       "    </tr>\n",
       "  </thead>\n",
       "  <tbody>\n",
       "    <tr>\n",
       "      <th>a</th>\n",
       "      <td> 0.000011</td>\n",
       "      <td> 0.002336</td>\n",
       "      <td> 0.001695</td>\n",
       "      <td> 0.003676</td>\n",
       "      <td> 0.000009</td>\n",
       "      <td> 0.000705</td>\n",
       "    </tr>\n",
       "    <tr>\n",
       "      <th>b</th>\n",
       "      <td> 0.000439</td>\n",
       "      <td> 0.000011</td>\n",
       "      <td>      NaN</td>\n",
       "      <td> 0.000002</td>\n",
       "      <td> 0.006330</td>\n",
       "      <td>      NaN</td>\n",
       "    </tr>\n",
       "    <tr>\n",
       "      <th>c</th>\n",
       "      <td> 0.002127</td>\n",
       "      <td> 0.000002</td>\n",
       "      <td> 0.000493</td>\n",
       "      <td> 0.000005</td>\n",
       "      <td> 0.003771</td>\n",
       "      <td>      NaN</td>\n",
       "    </tr>\n",
       "    <tr>\n",
       "      <th>d</th>\n",
       "      <td> 0.001619</td>\n",
       "      <td> 0.000012</td>\n",
       "      <td> 0.000002</td>\n",
       "      <td> 0.000313</td>\n",
       "      <td> 0.003861</td>\n",
       "      <td> 0.000038</td>\n",
       "    </tr>\n",
       "    <tr>\n",
       "      <th>e</th>\n",
       "      <td> 0.004746</td>\n",
       "      <td> 0.000081</td>\n",
       "      <td> 0.002479</td>\n",
       "      <td> 0.008216</td>\n",
       "      <td> 0.002873</td>\n",
       "      <td> 0.001035</td>\n",
       "    </tr>\n",
       "    <tr>\n",
       "      <th>f</th>\n",
       "      <td> 0.001196</td>\n",
       "      <td> 0.000002</td>\n",
       "      <td> 0.000009</td>\n",
       "      <td> 0.000009</td>\n",
       "      <td> 0.001698</td>\n",
       "      <td> 0.000874</td>\n",
       "    </tr>\n",
       "  </tbody>\n",
       "</table>\n",
       "</div>"
      ],
      "text/plain": [
       "Second Letter         a         b         c         d         e         f\n",
       "First Letter                                                             \n",
       "a              0.000011  0.002336  0.001695  0.003676  0.000009  0.000705\n",
       "b              0.000439  0.000011       NaN  0.000002  0.006330       NaN\n",
       "c              0.002127  0.000002  0.000493  0.000005  0.003771       NaN\n",
       "d              0.001619  0.000012  0.000002  0.000313  0.003861  0.000038\n",
       "e              0.004746  0.000081  0.002479  0.008216  0.002873  0.001035\n",
       "f              0.001196  0.000002  0.000009  0.000009  0.001698  0.000874"
      ]
     },
     "execution_count": 28,
     "metadata": {},
     "output_type": "execute_result"
    }
   ],
   "source": [
    "frequency_table.loc['a':'f', 'a':'f']"
   ]
  },
  {
   "cell_type": "code",
   "execution_count": 30,
   "metadata": {
    "collapsed": false
   },
   "outputs": [
    {
     "data": {
      "text/html": [
       "<div style=\"max-height:1000px;max-width:1500px;overflow:auto;\">\n",
       "<table border=\"1\" class=\"dataframe\">\n",
       "  <thead>\n",
       "    <tr style=\"text-align: right;\">\n",
       "      <th>Second Letter</th>\n",
       "      <th> </th>\n",
       "      <th>a</th>\n",
       "      <th>b</th>\n",
       "      <th>c</th>\n",
       "      <th>d</th>\n",
       "      <th>e</th>\n",
       "      <th>f</th>\n",
       "      <th>g</th>\n",
       "      <th>h</th>\n",
       "      <th>i</th>\n",
       "      <th>...</th>\n",
       "      <th>q</th>\n",
       "      <th>r</th>\n",
       "      <th>s</th>\n",
       "      <th>t</th>\n",
       "      <th>u</th>\n",
       "      <th>v</th>\n",
       "      <th>w</th>\n",
       "      <th>x</th>\n",
       "      <th>y</th>\n",
       "      <th>z</th>\n",
       "    </tr>\n",
       "    <tr>\n",
       "      <th>First Letter</th>\n",
       "      <th></th>\n",
       "      <th></th>\n",
       "      <th></th>\n",
       "      <th></th>\n",
       "      <th></th>\n",
       "      <th></th>\n",
       "      <th></th>\n",
       "      <th></th>\n",
       "      <th></th>\n",
       "      <th></th>\n",
       "      <th></th>\n",
       "      <th></th>\n",
       "      <th></th>\n",
       "      <th></th>\n",
       "      <th></th>\n",
       "      <th></th>\n",
       "      <th></th>\n",
       "      <th></th>\n",
       "      <th></th>\n",
       "      <th></th>\n",
       "      <th></th>\n",
       "    </tr>\n",
       "  </thead>\n",
       "  <tbody>\n",
       "    <tr>\n",
       "      <th> </th>\n",
       "      <td>      NaN</td>\n",
       "      <td> 0.020513</td>\n",
       "      <td> 0.009214</td>\n",
       "      <td> 0.007172</td>\n",
       "      <td> 0.005778</td>\n",
       "      <td> 0.004998</td>\n",
       "      <td> 0.006269</td>\n",
       "      <td> 0.002753</td>\n",
       "      <td> 0.016016</td>\n",
       "      <td> 0.012907</td>\n",
       "      <td>...</td>\n",
       "      <td> 0.000382</td>\n",
       "      <td> 0.003609</td>\n",
       "      <td> 0.013341</td>\n",
       "      <td> 0.024275</td>\n",
       "      <td> 0.001544</td>\n",
       "      <td> 0.001326</td>\n",
       "      <td> 0.013768</td>\n",
       "      <td>      NaN</td>\n",
       "      <td> 0.003510</td>\n",
       "      <td>      NaN</td>\n",
       "    </tr>\n",
       "    <tr>\n",
       "      <th>a</th>\n",
       "      <td> 0.003381</td>\n",
       "      <td> 0.000011</td>\n",
       "      <td> 0.002336</td>\n",
       "      <td> 0.001695</td>\n",
       "      <td> 0.003676</td>\n",
       "      <td> 0.000009</td>\n",
       "      <td> 0.000705</td>\n",
       "      <td> 0.001281</td>\n",
       "      <td> 0.000009</td>\n",
       "      <td> 0.002377</td>\n",
       "      <td>...</td>\n",
       "      <td>      NaN</td>\n",
       "      <td> 0.006289</td>\n",
       "      <td> 0.007391</td>\n",
       "      <td> 0.008574</td>\n",
       "      <td> 0.000772</td>\n",
       "      <td> 0.002070</td>\n",
       "      <td> 0.000509</td>\n",
       "      <td> 0.000005</td>\n",
       "      <td> 0.001809</td>\n",
       "      <td> 0.000035</td>\n",
       "    </tr>\n",
       "    <tr>\n",
       "      <th>b</th>\n",
       "      <td> 0.000008</td>\n",
       "      <td> 0.000439</td>\n",
       "      <td> 0.000011</td>\n",
       "      <td>      NaN</td>\n",
       "      <td> 0.000002</td>\n",
       "      <td> 0.006330</td>\n",
       "      <td>      NaN</td>\n",
       "      <td>      NaN</td>\n",
       "      <td> 0.000011</td>\n",
       "      <td> 0.000648</td>\n",
       "      <td>...</td>\n",
       "      <td>      NaN</td>\n",
       "      <td> 0.000489</td>\n",
       "      <td> 0.000234</td>\n",
       "      <td> 0.000161</td>\n",
       "      <td> 0.001681</td>\n",
       "      <td> 0.000002</td>\n",
       "      <td>      NaN</td>\n",
       "      <td>      NaN</td>\n",
       "      <td> 0.001014</td>\n",
       "      <td>      NaN</td>\n",
       "    </tr>\n",
       "    <tr>\n",
       "      <th>c</th>\n",
       "      <td> 0.000093</td>\n",
       "      <td> 0.002127</td>\n",
       "      <td> 0.000002</td>\n",
       "      <td> 0.000493</td>\n",
       "      <td> 0.000005</td>\n",
       "      <td> 0.003771</td>\n",
       "      <td>      NaN</td>\n",
       "      <td>      NaN</td>\n",
       "      <td> 0.003422</td>\n",
       "      <td> 0.000795</td>\n",
       "      <td>...</td>\n",
       "      <td> 0.000152</td>\n",
       "      <td> 0.000482</td>\n",
       "      <td> 0.000011</td>\n",
       "      <td> 0.001944</td>\n",
       "      <td> 0.000555</td>\n",
       "      <td>      NaN</td>\n",
       "      <td>      NaN</td>\n",
       "      <td>      NaN</td>\n",
       "      <td> 0.000774</td>\n",
       "      <td>      NaN</td>\n",
       "    </tr>\n",
       "    <tr>\n",
       "      <th>d</th>\n",
       "      <td> 0.020885</td>\n",
       "      <td> 0.001619</td>\n",
       "      <td> 0.000012</td>\n",
       "      <td> 0.000002</td>\n",
       "      <td> 0.000313</td>\n",
       "      <td> 0.003861</td>\n",
       "      <td> 0.000038</td>\n",
       "      <td> 0.000185</td>\n",
       "      <td> 0.000018</td>\n",
       "      <td> 0.002913</td>\n",
       "      <td>...</td>\n",
       "      <td> 0.000002</td>\n",
       "      <td> 0.000362</td>\n",
       "      <td> 0.000648</td>\n",
       "      <td> 0.000032</td>\n",
       "      <td> 0.000348</td>\n",
       "      <td> 0.000152</td>\n",
       "      <td> 0.000033</td>\n",
       "      <td>      NaN</td>\n",
       "      <td> 0.000617</td>\n",
       "      <td>      NaN</td>\n",
       "    </tr>\n",
       "    <tr>\n",
       "      <th>e</th>\n",
       "      <td> 0.033366</td>\n",
       "      <td> 0.004746</td>\n",
       "      <td> 0.000081</td>\n",
       "      <td> 0.002479</td>\n",
       "      <td> 0.008216</td>\n",
       "      <td> 0.002873</td>\n",
       "      <td> 0.001035</td>\n",
       "      <td> 0.000493</td>\n",
       "      <td> 0.000234</td>\n",
       "      <td> 0.001634</td>\n",
       "      <td>...</td>\n",
       "      <td> 0.000284</td>\n",
       "      <td> 0.017203</td>\n",
       "      <td> 0.005518</td>\n",
       "      <td> 0.003949</td>\n",
       "      <td> 0.000029</td>\n",
       "      <td> 0.002159</td>\n",
       "      <td> 0.000576</td>\n",
       "      <td> 0.001105</td>\n",
       "      <td> 0.001771</td>\n",
       "      <td>      NaN</td>\n",
       "    </tr>\n",
       "    <tr>\n",
       "      <th>f</th>\n",
       "      <td> 0.007052</td>\n",
       "      <td> 0.001196</td>\n",
       "      <td> 0.000002</td>\n",
       "      <td> 0.000009</td>\n",
       "      <td> 0.000009</td>\n",
       "      <td> 0.001698</td>\n",
       "      <td> 0.000874</td>\n",
       "      <td> 0.000003</td>\n",
       "      <td> 0.000012</td>\n",
       "      <td> 0.001253</td>\n",
       "      <td>...</td>\n",
       "      <td>      NaN</td>\n",
       "      <td> 0.001275</td>\n",
       "      <td> 0.000011</td>\n",
       "      <td> 0.000645</td>\n",
       "      <td> 0.000534</td>\n",
       "      <td>      NaN</td>\n",
       "      <td> 0.000003</td>\n",
       "      <td>      NaN</td>\n",
       "      <td> 0.000065</td>\n",
       "      <td>      NaN</td>\n",
       "    </tr>\n",
       "    <tr>\n",
       "      <th>g</th>\n",
       "      <td> 0.005412</td>\n",
       "      <td> 0.001110</td>\n",
       "      <td> 0.000135</td>\n",
       "      <td> 0.000002</td>\n",
       "      <td> 0.000006</td>\n",
       "      <td> 0.001964</td>\n",
       "      <td> 0.000002</td>\n",
       "      <td> 0.000053</td>\n",
       "      <td> 0.002288</td>\n",
       "      <td> 0.000821</td>\n",
       "      <td>...</td>\n",
       "      <td>      NaN</td>\n",
       "      <td> 0.001003</td>\n",
       "      <td> 0.000345</td>\n",
       "      <td> 0.000064</td>\n",
       "      <td> 0.000220</td>\n",
       "      <td>      NaN</td>\n",
       "      <td> 0.000002</td>\n",
       "      <td>      NaN</td>\n",
       "      <td> 0.000036</td>\n",
       "      <td>      NaN</td>\n",
       "    </tr>\n",
       "    <tr>\n",
       "      <th>h</th>\n",
       "      <td> 0.006245</td>\n",
       "      <td> 0.009580</td>\n",
       "      <td> 0.000081</td>\n",
       "      <td>      NaN</td>\n",
       "      <td> 0.000014</td>\n",
       "      <td> 0.022533</td>\n",
       "      <td> 0.000017</td>\n",
       "      <td>      NaN</td>\n",
       "      <td> 0.000006</td>\n",
       "      <td> 0.006824</td>\n",
       "      <td>...</td>\n",
       "      <td>      NaN</td>\n",
       "      <td> 0.000242</td>\n",
       "      <td> 0.000109</td>\n",
       "      <td> 0.001400</td>\n",
       "      <td> 0.000415</td>\n",
       "      <td>      NaN</td>\n",
       "      <td> 0.000006</td>\n",
       "      <td>      NaN</td>\n",
       "      <td> 0.000114</td>\n",
       "      <td>      NaN</td>\n",
       "    </tr>\n",
       "    <tr>\n",
       "      <th>i</th>\n",
       "      <td> 0.003145</td>\n",
       "      <td> 0.001076</td>\n",
       "      <td> 0.000453</td>\n",
       "      <td> 0.002218</td>\n",
       "      <td> 0.002004</td>\n",
       "      <td> 0.002254</td>\n",
       "      <td> 0.001101</td>\n",
       "      <td> 0.001329</td>\n",
       "      <td> 0.000008</td>\n",
       "      <td>      NaN</td>\n",
       "      <td>...</td>\n",
       "      <td> 0.000008</td>\n",
       "      <td> 0.002225</td>\n",
       "      <td> 0.007362</td>\n",
       "      <td> 0.007324</td>\n",
       "      <td> 0.000026</td>\n",
       "      <td> 0.001338</td>\n",
       "      <td> 0.000002</td>\n",
       "      <td> 0.000084</td>\n",
       "      <td>      NaN</td>\n",
       "      <td> 0.001169</td>\n",
       "    </tr>\n",
       "    <tr>\n",
       "      <th>j</th>\n",
       "      <td>      NaN</td>\n",
       "      <td> 0.000455</td>\n",
       "      <td>      NaN</td>\n",
       "      <td>      NaN</td>\n",
       "      <td>      NaN</td>\n",
       "      <td> 0.000356</td>\n",
       "      <td>      NaN</td>\n",
       "      <td>      NaN</td>\n",
       "      <td>      NaN</td>\n",
       "      <td> 0.000002</td>\n",
       "      <td>...</td>\n",
       "      <td>      NaN</td>\n",
       "      <td>      NaN</td>\n",
       "      <td>      NaN</td>\n",
       "      <td>      NaN</td>\n",
       "      <td> 0.000281</td>\n",
       "      <td>      NaN</td>\n",
       "      <td>      NaN</td>\n",
       "      <td>      NaN</td>\n",
       "      <td>      NaN</td>\n",
       "      <td>      NaN</td>\n",
       "    </tr>\n",
       "    <tr>\n",
       "      <th>k</th>\n",
       "      <td> 0.001210</td>\n",
       "      <td> 0.000026</td>\n",
       "      <td> 0.000002</td>\n",
       "      <td>      NaN</td>\n",
       "      <td>      NaN</td>\n",
       "      <td> 0.001589</td>\n",
       "      <td> 0.000056</td>\n",
       "      <td> 0.000003</td>\n",
       "      <td> 0.000296</td>\n",
       "      <td> 0.000742</td>\n",
       "      <td>...</td>\n",
       "      <td>      NaN</td>\n",
       "      <td> 0.000002</td>\n",
       "      <td> 0.000152</td>\n",
       "      <td>      NaN</td>\n",
       "      <td>      NaN</td>\n",
       "      <td>      NaN</td>\n",
       "      <td> 0.000023</td>\n",
       "      <td>      NaN</td>\n",
       "      <td> 0.000026</td>\n",
       "      <td>      NaN</td>\n",
       "    </tr>\n",
       "    <tr>\n",
       "      <th>l</th>\n",
       "      <td> 0.004215</td>\n",
       "      <td> 0.002178</td>\n",
       "      <td> 0.000008</td>\n",
       "      <td> 0.000046</td>\n",
       "      <td> 0.002537</td>\n",
       "      <td> 0.005425</td>\n",
       "      <td> 0.000956</td>\n",
       "      <td> 0.000029</td>\n",
       "      <td> 0.000006</td>\n",
       "      <td> 0.004758</td>\n",
       "      <td>...</td>\n",
       "      <td> 0.000002</td>\n",
       "      <td> 0.000046</td>\n",
       "      <td> 0.000341</td>\n",
       "      <td> 0.000385</td>\n",
       "      <td> 0.000474</td>\n",
       "      <td> 0.000164</td>\n",
       "      <td> 0.000190</td>\n",
       "      <td>      NaN</td>\n",
       "      <td> 0.003741</td>\n",
       "      <td>      NaN</td>\n",
       "    </tr>\n",
       "    <tr>\n",
       "      <th>m</th>\n",
       "      <td> 0.004059</td>\n",
       "      <td> 0.002856</td>\n",
       "      <td> 0.000303</td>\n",
       "      <td>      NaN</td>\n",
       "      <td>      NaN</td>\n",
       "      <td> 0.004820</td>\n",
       "      <td> 0.000088</td>\n",
       "      <td>      NaN</td>\n",
       "      <td> 0.000002</td>\n",
       "      <td> 0.002256</td>\n",
       "      <td>...</td>\n",
       "      <td>      NaN</td>\n",
       "      <td> 0.001716</td>\n",
       "      <td> 0.000514</td>\n",
       "      <td> 0.000012</td>\n",
       "      <td> 0.001090</td>\n",
       "      <td>      NaN</td>\n",
       "      <td> 0.000002</td>\n",
       "      <td>      NaN</td>\n",
       "      <td> 0.001260</td>\n",
       "      <td>      NaN</td>\n",
       "    </tr>\n",
       "    <tr>\n",
       "      <th>n</th>\n",
       "      <td> 0.013485</td>\n",
       "      <td> 0.000853</td>\n",
       "      <td> 0.000009</td>\n",
       "      <td> 0.002511</td>\n",
       "      <td> 0.008488</td>\n",
       "      <td> 0.006097</td>\n",
       "      <td> 0.000341</td>\n",
       "      <td> 0.007280</td>\n",
       "      <td> 0.000058</td>\n",
       "      <td> 0.001303</td>\n",
       "      <td>...</td>\n",
       "      <td> 0.000111</td>\n",
       "      <td> 0.000021</td>\n",
       "      <td> 0.002289</td>\n",
       "      <td> 0.005210</td>\n",
       "      <td> 0.000249</td>\n",
       "      <td> 0.000380</td>\n",
       "      <td> 0.000052</td>\n",
       "      <td> 0.000071</td>\n",
       "      <td> 0.000889</td>\n",
       "      <td> 0.000002</td>\n",
       "    </tr>\n",
       "    <tr>\n",
       "      <th>o</th>\n",
       "      <td> 0.009771</td>\n",
       "      <td> 0.000160</td>\n",
       "      <td> 0.000520</td>\n",
       "      <td> 0.000339</td>\n",
       "      <td> 0.000832</td>\n",
       "      <td> 0.000143</td>\n",
       "      <td> 0.006005</td>\n",
       "      <td> 0.000164</td>\n",
       "      <td> 0.000152</td>\n",
       "      <td> 0.000514</td>\n",
       "      <td>...</td>\n",
       "      <td> 0.000006</td>\n",
       "      <td> 0.005831</td>\n",
       "      <td> 0.001696</td>\n",
       "      <td> 0.004082</td>\n",
       "      <td> 0.009451</td>\n",
       "      <td> 0.000786</td>\n",
       "      <td> 0.002782</td>\n",
       "      <td> 0.000009</td>\n",
       "      <td> 0.000114</td>\n",
       "      <td> 0.000003</td>\n",
       "    </tr>\n",
       "    <tr>\n",
       "      <th>p</th>\n",
       "      <td> 0.000470</td>\n",
       "      <td> 0.001491</td>\n",
       "      <td> 0.000005</td>\n",
       "      <td>      NaN</td>\n",
       "      <td>      NaN</td>\n",
       "      <td> 0.002590</td>\n",
       "      <td> 0.000002</td>\n",
       "      <td>      NaN</td>\n",
       "      <td> 0.000157</td>\n",
       "      <td> 0.000632</td>\n",
       "      <td>...</td>\n",
       "      <td>      NaN</td>\n",
       "      <td> 0.002032</td>\n",
       "      <td> 0.000249</td>\n",
       "      <td> 0.000494</td>\n",
       "      <td> 0.000257</td>\n",
       "      <td>      NaN</td>\n",
       "      <td>      NaN</td>\n",
       "      <td>      NaN</td>\n",
       "      <td> 0.000150</td>\n",
       "      <td>      NaN</td>\n",
       "    </tr>\n",
       "    <tr>\n",
       "      <th>q</th>\n",
       "      <td> 0.000002</td>\n",
       "      <td>      NaN</td>\n",
       "      <td>      NaN</td>\n",
       "      <td>      NaN</td>\n",
       "      <td>      NaN</td>\n",
       "      <td>      NaN</td>\n",
       "      <td>      NaN</td>\n",
       "      <td>      NaN</td>\n",
       "      <td>      NaN</td>\n",
       "      <td>      NaN</td>\n",
       "      <td>...</td>\n",
       "      <td>      NaN</td>\n",
       "      <td>      NaN</td>\n",
       "      <td>      NaN</td>\n",
       "      <td>      NaN</td>\n",
       "      <td> 0.000952</td>\n",
       "      <td>      NaN</td>\n",
       "      <td>      NaN</td>\n",
       "      <td>      NaN</td>\n",
       "      <td>      NaN</td>\n",
       "      <td>      NaN</td>\n",
       "    </tr>\n",
       "    <tr>\n",
       "      <th>r</th>\n",
       "      <td> 0.015270</td>\n",
       "      <td> 0.002046</td>\n",
       "      <td> 0.000087</td>\n",
       "      <td> 0.001037</td>\n",
       "      <td> 0.001304</td>\n",
       "      <td> 0.011181</td>\n",
       "      <td> 0.000322</td>\n",
       "      <td> 0.000310</td>\n",
       "      <td> 0.000172</td>\n",
       "      <td> 0.003090</td>\n",
       "      <td>...</td>\n",
       "      <td>      NaN</td>\n",
       "      <td> 0.000880</td>\n",
       "      <td> 0.003068</td>\n",
       "      <td> 0.001967</td>\n",
       "      <td> 0.000445</td>\n",
       "      <td> 0.000324</td>\n",
       "      <td> 0.000132</td>\n",
       "      <td>      NaN</td>\n",
       "      <td> 0.001999</td>\n",
       "      <td>      NaN</td>\n",
       "    </tr>\n",
       "    <tr>\n",
       "      <th>s</th>\n",
       "      <td> 0.018686</td>\n",
       "      <td> 0.002057</td>\n",
       "      <td> 0.000090</td>\n",
       "      <td> 0.000499</td>\n",
       "      <td> 0.000055</td>\n",
       "      <td> 0.005790</td>\n",
       "      <td> 0.000196</td>\n",
       "      <td> 0.000053</td>\n",
       "      <td> 0.004474</td>\n",
       "      <td> 0.003294</td>\n",
       "      <td>...</td>\n",
       "      <td> 0.000006</td>\n",
       "      <td> 0.000011</td>\n",
       "      <td> 0.002844</td>\n",
       "      <td> 0.005292</td>\n",
       "      <td> 0.002300</td>\n",
       "      <td> 0.000003</td>\n",
       "      <td> 0.000196</td>\n",
       "      <td>      NaN</td>\n",
       "      <td> 0.000096</td>\n",
       "      <td>      NaN</td>\n",
       "    </tr>\n",
       "    <tr>\n",
       "      <th>t</th>\n",
       "      <td> 0.020225</td>\n",
       "      <td> 0.002329</td>\n",
       "      <td> 0.000011</td>\n",
       "      <td> 0.000152</td>\n",
       "      <td> 0.000003</td>\n",
       "      <td> 0.006676</td>\n",
       "      <td> 0.000137</td>\n",
       "      <td> 0.000002</td>\n",
       "      <td> 0.020899</td>\n",
       "      <td> 0.004728</td>\n",
       "      <td>...</td>\n",
       "      <td>      NaN</td>\n",
       "      <td> 0.001209</td>\n",
       "      <td> 0.000835</td>\n",
       "      <td> 0.001794</td>\n",
       "      <td> 0.001146</td>\n",
       "      <td>      NaN</td>\n",
       "      <td> 0.000365</td>\n",
       "      <td>      NaN</td>\n",
       "      <td> 0.001158</td>\n",
       "      <td> 0.000056</td>\n",
       "    </tr>\n",
       "    <tr>\n",
       "      <th>u</th>\n",
       "      <td> 0.002061</td>\n",
       "      <td> 0.000689</td>\n",
       "      <td> 0.000356</td>\n",
       "      <td> 0.001558</td>\n",
       "      <td> 0.000386</td>\n",
       "      <td> 0.000593</td>\n",
       "      <td> 0.000079</td>\n",
       "      <td> 0.001309</td>\n",
       "      <td> 0.000003</td>\n",
       "      <td> 0.000543</td>\n",
       "      <td>...</td>\n",
       "      <td>      NaN</td>\n",
       "      <td> 0.003968</td>\n",
       "      <td> 0.002534</td>\n",
       "      <td> 0.002786</td>\n",
       "      <td>      NaN</td>\n",
       "      <td> 0.000002</td>\n",
       "      <td>      NaN</td>\n",
       "      <td> 0.000002</td>\n",
       "      <td> 0.000008</td>\n",
       "      <td> 0.000005</td>\n",
       "    </tr>\n",
       "    <tr>\n",
       "      <th>v</th>\n",
       "      <td>      NaN</td>\n",
       "      <td> 0.000544</td>\n",
       "      <td>      NaN</td>\n",
       "      <td>      NaN</td>\n",
       "      <td>      NaN</td>\n",
       "      <td> 0.006489</td>\n",
       "      <td>      NaN</td>\n",
       "      <td>      NaN</td>\n",
       "      <td>      NaN</td>\n",
       "      <td> 0.001295</td>\n",
       "      <td>...</td>\n",
       "      <td>      NaN</td>\n",
       "      <td> 0.000002</td>\n",
       "      <td>      NaN</td>\n",
       "      <td>      NaN</td>\n",
       "      <td> 0.000005</td>\n",
       "      <td>      NaN</td>\n",
       "      <td>      NaN</td>\n",
       "      <td>      NaN</td>\n",
       "      <td> 0.000012</td>\n",
       "      <td>      NaN</td>\n",
       "    </tr>\n",
       "    <tr>\n",
       "      <th>w</th>\n",
       "      <td> 0.001824</td>\n",
       "      <td> 0.004141</td>\n",
       "      <td>      NaN</td>\n",
       "      <td> 0.000011</td>\n",
       "      <td> 0.000009</td>\n",
       "      <td> 0.002721</td>\n",
       "      <td> 0.000005</td>\n",
       "      <td>      NaN</td>\n",
       "      <td> 0.003528</td>\n",
       "      <td> 0.003808</td>\n",
       "      <td>...</td>\n",
       "      <td>      NaN</td>\n",
       "      <td> 0.000190</td>\n",
       "      <td> 0.000137</td>\n",
       "      <td> 0.000003</td>\n",
       "      <td>      NaN</td>\n",
       "      <td>      NaN</td>\n",
       "      <td>      NaN</td>\n",
       "      <td>      NaN</td>\n",
       "      <td>      NaN</td>\n",
       "      <td>      NaN</td>\n",
       "    </tr>\n",
       "    <tr>\n",
       "      <th>x</th>\n",
       "      <td> 0.000041</td>\n",
       "      <td> 0.000105</td>\n",
       "      <td>      NaN</td>\n",
       "      <td> 0.000237</td>\n",
       "      <td>      NaN</td>\n",
       "      <td> 0.000096</td>\n",
       "      <td> 0.000002</td>\n",
       "      <td>      NaN</td>\n",
       "      <td> 0.000011</td>\n",
       "      <td> 0.000108</td>\n",
       "      <td>...</td>\n",
       "      <td> 0.000002</td>\n",
       "      <td>      NaN</td>\n",
       "      <td>      NaN</td>\n",
       "      <td> 0.000225</td>\n",
       "      <td> 0.000005</td>\n",
       "      <td>      NaN</td>\n",
       "      <td>      NaN</td>\n",
       "      <td>      NaN</td>\n",
       "      <td> 0.000002</td>\n",
       "      <td>      NaN</td>\n",
       "    </tr>\n",
       "    <tr>\n",
       "      <th>y</th>\n",
       "      <td> 0.013736</td>\n",
       "      <td> 0.000014</td>\n",
       "      <td> 0.000100</td>\n",
       "      <td> 0.000003</td>\n",
       "      <td> 0.000261</td>\n",
       "      <td> 0.000537</td>\n",
       "      <td> 0.000014</td>\n",
       "      <td>      NaN</td>\n",
       "      <td> 0.000005</td>\n",
       "      <td> 0.000254</td>\n",
       "      <td>...</td>\n",
       "      <td>      NaN</td>\n",
       "      <td> 0.000006</td>\n",
       "      <td> 0.000702</td>\n",
       "      <td> 0.000284</td>\n",
       "      <td>      NaN</td>\n",
       "      <td>      NaN</td>\n",
       "      <td> 0.000009</td>\n",
       "      <td>      NaN</td>\n",
       "      <td> 0.000002</td>\n",
       "      <td>      NaN</td>\n",
       "    </tr>\n",
       "    <tr>\n",
       "      <th>z</th>\n",
       "      <td>      NaN</td>\n",
       "      <td> 0.001002</td>\n",
       "      <td>      NaN</td>\n",
       "      <td>      NaN</td>\n",
       "      <td>      NaN</td>\n",
       "      <td> 0.000050</td>\n",
       "      <td>      NaN</td>\n",
       "      <td>      NaN</td>\n",
       "      <td>      NaN</td>\n",
       "      <td> 0.000008</td>\n",
       "      <td>...</td>\n",
       "      <td>      NaN</td>\n",
       "      <td>      NaN</td>\n",
       "      <td>      NaN</td>\n",
       "      <td>      NaN</td>\n",
       "      <td>      NaN</td>\n",
       "      <td>      NaN</td>\n",
       "      <td> 0.000056</td>\n",
       "      <td>      NaN</td>\n",
       "      <td> 0.000147</td>\n",
       "      <td> 0.000154</td>\n",
       "    </tr>\n",
       "  </tbody>\n",
       "</table>\n",
       "<p>27 rows × 27 columns</p>\n",
       "</div>"
      ],
      "text/plain": [
       "Second Letter                   a         b         c         d         e  \\\n",
       "First Letter                                                                \n",
       "                    NaN  0.020513  0.009214  0.007172  0.005778  0.004998   \n",
       "a              0.003381  0.000011  0.002336  0.001695  0.003676  0.000009   \n",
       "b              0.000008  0.000439  0.000011       NaN  0.000002  0.006330   \n",
       "c              0.000093  0.002127  0.000002  0.000493  0.000005  0.003771   \n",
       "d              0.020885  0.001619  0.000012  0.000002  0.000313  0.003861   \n",
       "e              0.033366  0.004746  0.000081  0.002479  0.008216  0.002873   \n",
       "f              0.007052  0.001196  0.000002  0.000009  0.000009  0.001698   \n",
       "g              0.005412  0.001110  0.000135  0.000002  0.000006  0.001964   \n",
       "h              0.006245  0.009580  0.000081       NaN  0.000014  0.022533   \n",
       "i              0.003145  0.001076  0.000453  0.002218  0.002004  0.002254   \n",
       "j                   NaN  0.000455       NaN       NaN       NaN  0.000356   \n",
       "k              0.001210  0.000026  0.000002       NaN       NaN  0.001589   \n",
       "l              0.004215  0.002178  0.000008  0.000046  0.002537  0.005425   \n",
       "m              0.004059  0.002856  0.000303       NaN       NaN  0.004820   \n",
       "n              0.013485  0.000853  0.000009  0.002511  0.008488  0.006097   \n",
       "o              0.009771  0.000160  0.000520  0.000339  0.000832  0.000143   \n",
       "p              0.000470  0.001491  0.000005       NaN       NaN  0.002590   \n",
       "q              0.000002       NaN       NaN       NaN       NaN       NaN   \n",
       "r              0.015270  0.002046  0.000087  0.001037  0.001304  0.011181   \n",
       "s              0.018686  0.002057  0.000090  0.000499  0.000055  0.005790   \n",
       "t              0.020225  0.002329  0.000011  0.000152  0.000003  0.006676   \n",
       "u              0.002061  0.000689  0.000356  0.001558  0.000386  0.000593   \n",
       "v                   NaN  0.000544       NaN       NaN       NaN  0.006489   \n",
       "w              0.001824  0.004141       NaN  0.000011  0.000009  0.002721   \n",
       "x              0.000041  0.000105       NaN  0.000237       NaN  0.000096   \n",
       "y              0.013736  0.000014  0.000100  0.000003  0.000261  0.000537   \n",
       "z                   NaN  0.001002       NaN       NaN       NaN  0.000050   \n",
       "\n",
       "Second Letter         f         g         h         i    ...            q  \\\n",
       "First Letter                                             ...                \n",
       "               0.006269  0.002753  0.016016  0.012907    ...     0.000382   \n",
       "a              0.000705  0.001281  0.000009  0.002377    ...          NaN   \n",
       "b                   NaN       NaN  0.000011  0.000648    ...          NaN   \n",
       "c                   NaN       NaN  0.003422  0.000795    ...     0.000152   \n",
       "d              0.000038  0.000185  0.000018  0.002913    ...     0.000002   \n",
       "e              0.001035  0.000493  0.000234  0.001634    ...     0.000284   \n",
       "f              0.000874  0.000003  0.000012  0.001253    ...          NaN   \n",
       "g              0.000002  0.000053  0.002288  0.000821    ...          NaN   \n",
       "h              0.000017       NaN  0.000006  0.006824    ...          NaN   \n",
       "i              0.001101  0.001329  0.000008       NaN    ...     0.000008   \n",
       "j                   NaN       NaN       NaN  0.000002    ...          NaN   \n",
       "k              0.000056  0.000003  0.000296  0.000742    ...          NaN   \n",
       "l              0.000956  0.000029  0.000006  0.004758    ...     0.000002   \n",
       "m              0.000088       NaN  0.000002  0.002256    ...          NaN   \n",
       "n              0.000341  0.007280  0.000058  0.001303    ...     0.000111   \n",
       "o              0.006005  0.000164  0.000152  0.000514    ...     0.000006   \n",
       "p              0.000002       NaN  0.000157  0.000632    ...          NaN   \n",
       "q                   NaN       NaN       NaN       NaN    ...          NaN   \n",
       "r              0.000322  0.000310  0.000172  0.003090    ...          NaN   \n",
       "s              0.000196  0.000053  0.004474  0.003294    ...     0.000006   \n",
       "t              0.000137  0.000002  0.020899  0.004728    ...          NaN   \n",
       "u              0.000079  0.001309  0.000003  0.000543    ...          NaN   \n",
       "v                   NaN       NaN       NaN  0.001295    ...          NaN   \n",
       "w              0.000005       NaN  0.003528  0.003808    ...          NaN   \n",
       "x              0.000002       NaN  0.000011  0.000108    ...     0.000002   \n",
       "y              0.000014       NaN  0.000005  0.000254    ...          NaN   \n",
       "z                   NaN       NaN       NaN  0.000008    ...          NaN   \n",
       "\n",
       "Second Letter         r         s         t         u         v         w  \\\n",
       "First Letter                                                                \n",
       "               0.003609  0.013341  0.024275  0.001544  0.001326  0.013768   \n",
       "a              0.006289  0.007391  0.008574  0.000772  0.002070  0.000509   \n",
       "b              0.000489  0.000234  0.000161  0.001681  0.000002       NaN   \n",
       "c              0.000482  0.000011  0.001944  0.000555       NaN       NaN   \n",
       "d              0.000362  0.000648  0.000032  0.000348  0.000152  0.000033   \n",
       "e              0.017203  0.005518  0.003949  0.000029  0.002159  0.000576   \n",
       "f              0.001275  0.000011  0.000645  0.000534       NaN  0.000003   \n",
       "g              0.001003  0.000345  0.000064  0.000220       NaN  0.000002   \n",
       "h              0.000242  0.000109  0.001400  0.000415       NaN  0.000006   \n",
       "i              0.002225  0.007362  0.007324  0.000026  0.001338  0.000002   \n",
       "j                   NaN       NaN       NaN  0.000281       NaN       NaN   \n",
       "k              0.000002  0.000152       NaN       NaN       NaN  0.000023   \n",
       "l              0.000046  0.000341  0.000385  0.000474  0.000164  0.000190   \n",
       "m              0.001716  0.000514  0.000012  0.001090       NaN  0.000002   \n",
       "n              0.000021  0.002289  0.005210  0.000249  0.000380  0.000052   \n",
       "o              0.005831  0.001696  0.004082  0.009451  0.000786  0.002782   \n",
       "p              0.002032  0.000249  0.000494  0.000257       NaN       NaN   \n",
       "q                   NaN       NaN       NaN  0.000952       NaN       NaN   \n",
       "r              0.000880  0.003068  0.001967  0.000445  0.000324  0.000132   \n",
       "s              0.000011  0.002844  0.005292  0.002300  0.000003  0.000196   \n",
       "t              0.001209  0.000835  0.001794  0.001146       NaN  0.000365   \n",
       "u              0.003968  0.002534  0.002786       NaN  0.000002       NaN   \n",
       "v              0.000002       NaN       NaN  0.000005       NaN       NaN   \n",
       "w              0.000190  0.000137  0.000003       NaN       NaN       NaN   \n",
       "x                   NaN       NaN  0.000225  0.000005       NaN       NaN   \n",
       "y              0.000006  0.000702  0.000284       NaN       NaN  0.000009   \n",
       "z                   NaN       NaN       NaN       NaN       NaN  0.000056   \n",
       "\n",
       "Second Letter         x         y         z  \n",
       "First Letter                                 \n",
       "                    NaN  0.003510       NaN  \n",
       "a              0.000005  0.001809  0.000035  \n",
       "b                   NaN  0.001014       NaN  \n",
       "c                   NaN  0.000774       NaN  \n",
       "d                   NaN  0.000617       NaN  \n",
       "e              0.001105  0.001771       NaN  \n",
       "f                   NaN  0.000065       NaN  \n",
       "g                   NaN  0.000036       NaN  \n",
       "h                   NaN  0.000114       NaN  \n",
       "i              0.000084       NaN  0.001169  \n",
       "j                   NaN       NaN       NaN  \n",
       "k                   NaN  0.000026       NaN  \n",
       "l                   NaN  0.003741       NaN  \n",
       "m                   NaN  0.001260       NaN  \n",
       "n              0.000071  0.000889  0.000002  \n",
       "o              0.000009  0.000114  0.000003  \n",
       "p                   NaN  0.000150       NaN  \n",
       "q                   NaN       NaN       NaN  \n",
       "r                   NaN  0.001999       NaN  \n",
       "s                   NaN  0.000096       NaN  \n",
       "t                   NaN  0.001158  0.000056  \n",
       "u              0.000002  0.000008  0.000005  \n",
       "v                   NaN  0.000012       NaN  \n",
       "w                   NaN       NaN       NaN  \n",
       "x                   NaN  0.000002       NaN  \n",
       "y                   NaN  0.000002       NaN  \n",
       "z                   NaN  0.000147  0.000154  \n",
       "\n",
       "[27 rows x 27 columns]"
      ]
     },
     "execution_count": 30,
     "metadata": {},
     "output_type": "execute_result"
    }
   ],
   "source": [
    "frequency_table"
   ]
  },
  {
   "cell_type": "code",
   "execution_count": 31,
   "metadata": {
    "collapsed": true
   },
   "outputs": [],
   "source": [
    "import matplotlib.pyplot as plt"
   ]
  },
  {
   "cell_type": "code",
   "execution_count": 32,
   "metadata": {
    "collapsed": false
   },
   "outputs": [
    {
     "data": {
      "text/plain": [
       "<matplotlib.image.AxesImage at 0x11313a350>"
      ]
     },
     "execution_count": 32,
     "metadata": {},
     "output_type": "execute_result"
    },
    {
     "data": {
      "image/png": "[encoded data removed]",
      "text/plain": [
       "<matplotlib.figure.Figure at 0x10bdd3b50>"
      ]
     },
     "metadata": {},
     "output_type": "display_data"
    }
   ],
   "source": [
    "plt.imshow(frequency_table, interpolation='none')"
   ]
  },
  {
   "cell_type": "code",
   "execution_count": 43,
   "metadata": {
    "collapsed": false
   },
   "outputs": [],
   "source": [
    "conditional_pdf = frequency_table.div(frequency_table.sum(axis=1), axis='index')\n",
    "conditional_pdf = conditional_pdf.fillna(0)"
   ]
  },
  {
   "cell_type": "code",
   "execution_count": null,
   "metadata": {
    "collapsed": false
   },
   "outputs": [],
   "source": []
  },
  {
   "cell_type": "code",
   "execution_count": 40,
   "metadata": {
    "collapsed": false
   },
   "outputs": [
    {
     "data": {
      "text/plain": [
       "First Letter\n",
       "                0.184639\n",
       "a               0.063361\n",
       "b               0.013813\n",
       "c               0.020461\n",
       "d               0.033898\n",
       "e               0.105446\n",
       "f               0.018242\n",
       "g               0.015247\n",
       "h               0.051785\n",
       "i               0.057507\n",
       "j               0.001324\n",
       "k               0.004877\n",
       "l               0.032823\n",
       "m               0.022443\n",
       "n               0.057289\n",
       "o               0.060865\n",
       "p               0.012502\n",
       "q               0.000953\n",
       "r               0.049093\n",
       "s               0.050330\n",
       "t               0.070901\n",
       "u               0.022779\n",
       "v               0.008704\n",
       "w               0.018705\n",
       "x               0.001275\n",
       "y               0.019315\n",
       "z               0.001423\n",
       "dtype: float64"
      ]
     },
     "execution_count": 40,
     "metadata": {},
     "output_type": "execute_result"
    }
   ],
   "source": [
    "frequency_table.sum(axis=1)"
   ]
  },
  {
   "cell_type": "code",
   "execution_count": 45,
   "metadata": {
    "collapsed": false
   },
   "outputs": [
    {
     "data": {
      "text/plain": [
       "Second Letter\n",
       "                 0.001595\n",
       "a                0.000000\n",
       "b                0.000000\n",
       "c                0.000000\n",
       "d                0.000000\n",
       "e                0.000000\n",
       "f                0.000000\n",
       "g                0.000000\n",
       "h                0.000000\n",
       "i                0.000000\n",
       "j                0.000000\n",
       "k                0.000000\n",
       "l                0.000000\n",
       "m                0.000000\n",
       "n                0.000000\n",
       "o                0.000000\n",
       "p                0.000000\n",
       "q                0.000000\n",
       "r                0.000000\n",
       "s                0.000000\n",
       "t                0.000000\n",
       "u                0.998405\n",
       "v                0.000000\n",
       "w                0.000000\n",
       "x                0.000000\n",
       "y                0.000000\n",
       "z                0.000000\n",
       "Name: q, dtype: float64"
      ]
     },
     "execution_count": 45,
     "metadata": {},
     "output_type": "execute_result"
    }
   ],
   "source": [
    "conditional_pdf.loc['q']"
   ]
  },
  {
   "cell_type": "code",
   "execution_count": 48,
   "metadata": {
    "collapsed": false
   },
   "outputs": [
    {
     "data": {
      "image/png": "[encoded data removed]",
      "text/plain": [
       "<matplotlib.figure.Figure at 0x113247410>"
      ]
     },
     "metadata": {},
     "output_type": "display_data"
    }
   ],
   "source": [
    "plt.imshow(conditional_pdf, interpolation='none', cmap='coolwarm')\n",
    "labels = conditional_pdf.index\n",
    "_ = plt.xticks(range(len(labels)), labels)\n",
    "_ = plt.yticks(range(len(labels)), labels)\n",
    "plt.grid(False)"
   ]
  },
  {
   "cell_type": "code",
   "execution_count": 333,
   "metadata": {
    "collapsed": false
   },
   "outputs": [
    {
     "data": {
      "text/plain": [
       "Second Letter\n",
       "                 0.000008\n",
       "a                0.000000\n",
       "b                0.000000\n",
       "c                0.000000\n",
       "d                0.000000\n",
       "e                0.000000\n",
       "f                0.000000\n",
       "g                0.000000\n",
       "h                0.000000\n",
       "i                0.000000\n",
       "j                0.000000\n",
       "k                0.000000\n",
       "l                0.000000\n",
       "m                0.000000\n",
       "n                0.000000\n",
       "o                0.000000\n",
       "p                0.000000\n",
       "q                0.000000\n",
       "r                0.000000\n",
       "s                0.000000\n",
       "t                0.000000\n",
       "u                0.041775\n",
       "v                0.000000\n",
       "w                0.000000\n",
       "x                0.000000\n",
       "y                0.000000\n",
       "z                0.000000\n",
       "Name: q, dtype: float64"
      ]
     },
     "execution_count": 333,
     "metadata": {},
     "output_type": "execute_result"
    }
   ],
   "source": [
    "conditional_pdf.loc['q']"
   ]
  },
  {
   "cell_type": "code",
   "execution_count": 49,
   "metadata": {
    "collapsed": false
   },
   "outputs": [],
   "source": [
    "from itertools import islice\n",
    "\n",
    "def find_words(substring):\n",
    "    substring = substring.replace(' ', '\\s')\n",
    "    regexp = '(?P<word>\\w*{}\\w*)'.format(substring)\n",
    "    for match in re.finditer(regexp, text):\n",
    "        yield match.groupdict()['word']"
   ]
  },
  {
   "cell_type": "code",
   "execution_count": 50,
   "metadata": {
    "collapsed": false
   },
   "outputs": [
    {
     "data": {
      "text/plain": [
       "[u'quickness',\n",
       " u'quick',\n",
       " u'acquainted',\n",
       " u'acquaintance',\n",
       " u'quite',\n",
       " u'acquaintance',\n",
       " u'acquaintance',\n",
       " u'acquaintances',\n",
       " u'questions',\n",
       " u'quite']"
      ]
     },
     "execution_count": 50,
     "metadata": {},
     "output_type": "execute_result"
    }
   ],
   "source": [
    "list(islice(find_words('qu'), 10))"
   ]
  },
  {
   "cell_type": "code",
   "execution_count": 51,
   "metadata": {
    "collapsed": false
   },
   "outputs": [
    {
     "data": {
      "text/plain": [
       "[u'esq to']"
      ]
     },
     "execution_count": 51,
     "metadata": {},
     "output_type": "execute_result"
    }
   ],
   "source": [
    "list(find_words('q '))"
   ]
  },
  {
   "cell_type": "code",
   "execution_count": 52,
   "metadata": {
    "collapsed": false
   },
   "outputs": [
    {
     "data": {
      "text/plain": [
       "7.403641062742893"
      ]
     },
     "execution_count": 52,
     "metadata": {},
     "output_type": "execute_result"
    }
   ],
   "source": [
    "# Entropies\n",
    "entropy(p2['Count'], base=2)"
   ]
  },
  {
   "cell_type": "code",
   "execution_count": 53,
   "metadata": {
    "collapsed": false
   },
   "outputs": [
    {
     "name": "stdout",
     "output_type": "stream",
     "text": [
      "a 3.75237595884\n",
      "b 2.63709565337\n",
      "c 3.17504838207\n",
      "d 2.12901650048\n",
      "e 3.40444439894\n",
      "f 2.75621615866\n",
      "g 2.97999377189\n",
      "h 2.34247777979\n",
      "i 3.59182224702\n",
      "j 1.96442512306\n",
      "k 2.50156596352\n",
      "l 3.401429211\n",
      "m 3.24958166229\n",
      "n 3.39503192962\n",
      "o 3.6265805787\n",
      "p 3.25765761866\n",
      "q 0.0171194028502\n",
      "r 3.28149479231\n",
      "s 3.05496624835\n",
      "t 2.84164943442\n",
      "u 3.5664755349\n",
      "v 1.18507594698\n",
      "w 2.79183003388\n",
      "x 2.58210051874\n",
      "y 1.48291071751\n",
      "z 1.4703005486\n",
      "  4.12135865559\n"
     ]
    }
   ],
   "source": [
    "for letter in letters:\n",
    "    print letter, entropy(conditional_pdf.loc[letter], base=2)"
   ]
  },
  {
   "cell_type": "code",
   "execution_count": 54,
   "metadata": {
    "collapsed": false
   },
   "outputs": [
    {
     "data": {
      "text/plain": [
       "Second Letter\n",
       "                 0.032181\n",
       "a                0.082241\n",
       "b                0.000000\n",
       "c                0.185936\n",
       "d                0.000000\n",
       "e                0.075089\n",
       "f                0.001192\n",
       "g                0.000000\n",
       "h                0.008343\n",
       "i                0.084625\n",
       "j                0.000000\n",
       "k                0.000000\n",
       "l                0.000000\n",
       "m                0.000000\n",
       "n                0.000000\n",
       "o                0.000000\n",
       "p                0.348033\n",
       "q                0.001192\n",
       "r                0.000000\n",
       "s                0.000000\n",
       "t                0.176400\n",
       "u                0.003576\n",
       "v                0.000000\n",
       "w                0.000000\n",
       "x                0.000000\n",
       "y                0.001192\n",
       "z                0.000000\n",
       "Name: x, dtype: float64"
      ]
     },
     "execution_count": 54,
     "metadata": {},
     "output_type": "execute_result"
    }
   ],
   "source": [
    "conditional_pdf.loc['x']"
   ]
  },
  {
   "cell_type": "code",
   "execution_count": 55,
   "metadata": {
    "collapsed": false
   },
   "outputs": [],
   "source": [
    "# Higher-order digrams\n",
    "trigrams = zip(*[text[n:-3+n] for n in range(3)])\n",
    "quadgrams = zip(*[text[n:-4+n] for n in range(4)])"
   ]
  },
  {
   "cell_type": "code",
   "execution_count": 56,
   "metadata": {
    "collapsed": false
   },
   "outputs": [
    {
     "name": "stdout",
     "output_type": "stream",
     "text": [
      "it i\n",
      "t is\n",
      " is \n",
      "is a\n",
      "s a \n",
      " a t\n",
      "a tr\n",
      " tru\n",
      "trut\n",
      "ruth\n"
     ]
    }
   ],
   "source": [
    "for quadgram in quadgrams[:10]:\n",
    "    print ''.join(quadgram)"
   ]
  },
  {
   "cell_type": "code",
   "execution_count": 57,
   "metadata": {
    "collapsed": false
   },
   "outputs": [],
   "source": [
    "counts = Counter(quadgrams)"
   ]
  },
  {
   "cell_type": "code",
   "execution_count": 58,
   "metadata": {
    "collapsed": false
   },
   "outputs": [
    {
     "data": {
      "text/plain": [
       "16280"
      ]
     },
     "execution_count": 58,
     "metadata": {},
     "output_type": "execute_result"
    }
   ],
   "source": [
    "len(counts)"
   ]
  },
  {
   "cell_type": "code",
   "execution_count": 59,
   "metadata": {
    "collapsed": false
   },
   "outputs": [
    {
     "data": {
      "text/plain": [
       "[(u' the', 6510),\n",
       " (u'the ', 4332),\n",
       " (u' to ', 4127),\n",
       " (u'and ', 3749),\n",
       " (u' of ', 3598)]"
      ]
     },
     "execution_count": 59,
     "metadata": {},
     "output_type": "execute_result"
    }
   ],
   "source": [
    "[(''.join(letters), count) for letters, count in counts.most_common(5)]"
   ]
  },
  {
   "cell_type": "code",
   "execution_count": null,
   "metadata": {
    "collapsed": false
   },
   "outputs": [],
   "source": []
  },
  {
   "cell_type": "code",
   "execution_count": 60,
   "metadata": {
    "collapsed": true
   },
   "outputs": [],
   "source": [
    "num_trigrams = len(Counter(trigrams))"
   ]
  },
  {
   "cell_type": "code",
   "execution_count": null,
   "metadata": {
    "collapsed": true
   },
   "outputs": [],
   "source": []
  },
  {
   "cell_type": "code",
   "execution_count": 61,
   "metadata": {
    "collapsed": false
   },
   "outputs": [],
   "source": [
    "trigram_counter = Counter(trigrams)\n",
    "trigram_strings = [''.join(trigram) for trigram in trigram_counter]\n",
    "trigram_counts = trigram_counter.values()\n",
    "p3 = pd.Series(index=trigram_strings, data=trigram_counts)\n",
    "p3 /= p3.sum()"
   ]
  },
  {
   "cell_type": "code",
   "execution_count": 62,
   "metadata": {
    "collapsed": false
   },
   "outputs": [
    {
     "data": {
      "text/plain": [
       "f s    0.000442\n",
       "emy    0.000002\n",
       "g u    0.000046\n",
       "w w    0.000160\n",
       "tan    0.000538\n",
       "tth    0.000006\n",
       "urc    0.000062\n",
       "bel    0.000266\n",
       "isp    0.000141\n",
       "gna    0.000024\n",
       "iti    0.000263\n",
       "som    0.000603\n",
       "sau    0.000002\n",
       "yle    0.000015\n",
       "chl    0.000005\n",
       "...\n",
       "bag    0.000002\n",
       "vab    0.000006\n",
       "odw    0.000005\n",
       "eva    0.000043\n",
       "idl    0.000018\n",
       "ino    0.000006\n",
       "ame    0.000461\n",
       "epi    0.000029\n",
       "erd    0.000023\n",
       "rsi    0.000026\n",
       "xte    0.000033\n",
       "his    0.002651\n",
       "vot    0.000008\n",
       "gov    0.000017\n",
       " st    0.000787\n",
       "Length: 4061, dtype: float64"
      ]
     },
     "execution_count": 62,
     "metadata": {},
     "output_type": "execute_result"
    }
   ],
   "source": [
    "p3"
   ]
  },
  {
   "cell_type": "code",
   "execution_count": 72,
   "metadata": {
    "collapsed": false
   },
   "outputs": [],
   "source": [
    "quadgram_counter = Counter(quadgrams)\n",
    "quadgram_counts = quadgram_counter.values()\n",
    "\n",
    "_p4_data = np.zeros((len(p3), len(letters)), dtype=int)\n",
    "for n, trigram in enumerate(p3.index):\n",
    "    for i, letter in enumerate(letters):\n",
    "        index = tuple(trigram + letter)\n",
    "        _p4_data[n, i] = quadgram_counter[index]\n",
    "\n",
    "p4 = pd.DataFrame(\n",
    "    _p4_data,\n",
    "    index=p3.index,\n",
    "    columns=letters\n",
    ")\n",
    "#p4 /= _p4_data.sum()"
   ]
  },
  {
   "cell_type": "code",
   "execution_count": 74,
   "metadata": {
    "collapsed": false
   },
   "outputs": [
    {
     "data": {
      "text/plain": [
       "0"
      ]
     },
     "execution_count": 74,
     "metadata": {},
     "output_type": "execute_result"
    }
   ],
   "source": [
    "quadgram_counter['the ']"
   ]
  },
  {
   "cell_type": "code",
   "execution_count": 73,
   "metadata": {
    "collapsed": false
   },
   "outputs": [
    {
     "data": {
      "text/plain": [
       "     4332\n",
       "o       0\n",
       "f       0\n",
       "     4332\n",
       "Name: the, dtype: int64"
      ]
     },
     "execution_count": 73,
     "metadata": {},
     "output_type": "execute_result"
    }
   ],
   "source": [
    "p4.loc['the']"
   ]
  },
  {
   "cell_type": "code",
   "execution_count": 64,
   "metadata": {
    "collapsed": false
   },
   "outputs": [
    {
     "data": {
      "text/plain": [
       "f s    0.000203\n",
       "emy    0.000007\n",
       "g u    0.000000\n",
       "w w    0.000017\n",
       "tan    0.000000\n",
       "tth    0.000003\n",
       "urc    0.000000\n",
       "bel    0.000054\n",
       "isp    0.000159\n",
       "gna    0.000000\n",
       "iti    0.000251\n",
       "som    0.000027\n",
       "sau    0.000000\n",
       "yle    0.000058\n",
       "chl    0.000000\n",
       "...\n",
       "bag    0.000000\n",
       "vab    0.000000\n",
       "odw    0.000000\n",
       "eva    0.000000\n",
       "idl    0.000000\n",
       "ino    0.000010\n",
       "ame    0.001675\n",
       "epi    0.000000\n",
       "erd    0.000000\n",
       "rsi    0.000014\n",
       "xte    0.000000\n",
       "his    0.011642\n",
       "vot    0.000000\n",
       "gov    0.000000\n",
       " st    0.000210\n",
       "Length: 4061, dtype: float64"
      ]
     },
     "execution_count": 64,
     "metadata": {},
     "output_type": "execute_result"
    }
   ],
   "source": [
    "p4.sum(axis=1)"
   ]
  },
  {
   "cell_type": "code",
   "execution_count": 65,
   "metadata": {
    "collapsed": false
   },
   "outputs": [],
   "source": [
    "conditional_pdf4 = p4\n",
    "conditional_pdf4 = p4.div(p4.sum(axis=1), axis='index')"
   ]
  },
  {
   "cell_type": "code",
   "execution_count": 70,
   "metadata": {
    "collapsed": false
   },
   "outputs": [
    {
     "data": {
      "text/plain": [
       "     0.014687\n",
       "o    0.000000\n",
       "f    0.000000\n",
       "     0.014687\n",
       "Name: the, dtype: float64"
      ]
     },
     "execution_count": 70,
     "metadata": {},
     "output_type": "execute_result"
    }
   ],
   "source": [
    "p4.loc['the']"
   ]
  },
  {
   "cell_type": "code",
   "execution_count": 66,
   "metadata": {
    "collapsed": false
   },
   "outputs": [
    {
     "data": {
      "text/plain": [
       "     0.5\n",
       "o    0.0\n",
       "f    0.0\n",
       "     0.5\n",
       "Name: the, dtype: float64"
      ]
     },
     "execution_count": 66,
     "metadata": {},
     "output_type": "execute_result"
    }
   ],
   "source": [
    "conditional_pdf4.loc['the']"
   ]
  },
  {
   "cell_type": "code",
   "execution_count": 67,
   "metadata": {
    "collapsed": true
   },
   "outputs": [],
   "source": [
    "import numpy"
   ]
  },
  {
   "cell_type": "code",
   "execution_count": 68,
   "metadata": {
    "collapsed": false
   },
   "outputs": [],
   "source": [
    "def sample(start, n=1000):\n",
    "    for _ in range(n):\n",
    "        nextchar = numpy.random.choice(conditional_pdf4.columns, p=conditional_pdf4.loc[start])\n",
    "        start = (start + nextchar)[-3:]\n",
    "        yield nextchar"
   ]
  },
  {
   "cell_type": "code",
   "execution_count": 69,
   "metadata": {
    "collapsed": false
   },
   "outputs": [
    {
     "data": {
      "text/plain": [
       "u' of foo foo foo of foo foo foo foo foo of of foo of foo foo foo foo foo foo off foo foo foo off foo of foo of of of foo foo foo foo foo foo foo foo foo of foo foo foo foo foo foo foo of of of foo of foo foo foo foo of of of foo foo of foo of of of of foo foo foo foo foo foo foo of foo foo foo foo of of foo foo foo of foo foo foo foo foo foo foo foo foo of of of foo foo of foo foo of of of of of of of foo foo of of foo foo foo foo foo of foo foo foo foo foo foo of of off foo foo foo foo foo foo foo foo foo foo of of of foo of foo of of foo foo foo foo foo foo of foo foo foo foo foo of foo foo foo foo foo of of foo foo foo of foo foo foo foo foo foo of foo foo foo foo foo foo of of foo foo foo of of of foo foo foo foo of foo foo of foo foo of foo of foo foo of of foo foo foo foo foo foo foo foo of of of foo foo of foo foo of foo foo of of of of foo foo foo of of of foo foo of foo of of of foo foo foo of foo foo of foo foo of of foo foo of of foo foo foo foo foo foo foo foo foo foo foo of'"
      ]
     },
     "execution_count": 69,
     "metadata": {},
     "output_type": "execute_result"
    }
   ],
   "source": [
    "''.join(sample('the'))"
   ]
  },
  {
   "cell_type": "code",
   "execution_count": 214,
   "metadata": {
    "collapsed": false
   },
   "outputs": [
    {
     "data": {
      "text/plain": [
       "[1000]"
      ]
     },
     "execution_count": 214,
     "metadata": {},
     "output_type": "execute_result"
    }
   ],
   "source": []
  },
  {
   "cell_type": "code",
   "execution_count": 137,
   "metadata": {
    "collapsed": false
   },
   "outputs": [],
   "source": [
    "# Word boundaries!"
   ]
  },
  {
   "cell_type": "code",
   "execution_count": 75,
   "metadata": {
    "collapsed": false
   },
   "outputs": [
    {
     "name": "stdout",
     "output_type": "stream",
     "text": [
      "itisatruthuniversallyacknowledgedthatasinglemaninpossessionofagoodfortunemustbei\n",
      "[ 2  4  5 10 21 33 37 38 44 47]\n",
      "[ True False  True False  True  True False False False False  True False\n",
      " False False False False False False False False]\n"
     ]
    }
   ],
   "source": [
    "words = text.split()\n",
    "text_nospaces = ''.join(words)\n",
    "word_lengths = np.array([len(word) for word in words])\n",
    "word_boundaries = np.cumsum(word_lengths)\n",
    "print text_nospaces[:80]\n",
    "print word_boundaries[:10]\n",
    "\n",
    "start_word_mask = np.zeros(len(text_nospaces), dtype=bool)\n",
    "start_word_mask[word_boundaries[:-1]] = True\n",
    "start_word_mask[0] = True\n",
    "\n",
    "print start_word_mask[:20]"
   ]
  },
  {
   "cell_type": "code",
   "execution_count": 76,
   "metadata": {
    "collapsed": true
   },
   "outputs": [],
   "source": [
    "truncate_length = 1000\n",
    "text = text_nospaces[:truncate_length]\n",
    "energy = np.zeros(truncate_length, dtype=float)\n",
    "\n",
    "\n"
   ]
  },
  {
   "cell_type": "code",
   "execution_count": 77,
   "metadata": {
    "collapsed": false
   },
   "outputs": [],
   "source": [
    "digrams = [''.join(letters) for letters in zip(text[:-1], text[1:])]\n",
    "quadgrams = [''.join(letters) for letters in zip(*[text[n:-4+n] for n in range(4)])]\n",
    "digram_counter = Counter(digrams)\n",
    "quadgram_counter = Counter(quadgrams)"
   ]
  },
  {
   "cell_type": "code",
   "execution_count": 78,
   "metadata": {
    "collapsed": false
   },
   "outputs": [],
   "source": [
    "for n in range(truncate_length):\n",
    "    if n < 2 or n > truncate_length - 3:\n",
    "        continue\n",
    "    before, after = text[n-2:n], text[n:n+2]\n",
    "    span = text[n-2:n+2]\n",
    "    \n",
    "    energy[n] = float(quadgram_counter[span]) / (digram_counter[before] * digram_counter[after])\n",
    "\n",
    "energy *= sum(digram_counter.values()) ** 2 / float(sum(quadgram_counter.values()))   \n",
    "energy = np.log2(energy)"
   ]
  },
  {
   "cell_type": "code",
   "execution_count": 80,
   "metadata": {
    "collapsed": false
   },
   "outputs": [
    {
     "data": {
      "image/png": "[encoded data removed]",
      "text/plain": [
       "<matplotlib.figure.Figure at 0x1132561d0>"
      ]
     },
     "metadata": {},
     "output_type": "display_data"
    }
   ],
   "source": [
    "plot_start, plot_end = 250, 350\n",
    "\n",
    "energy_start = max(plot_start, 2)\n",
    "energy_end = min(plot_end, len(energy) - 2)\n",
    "energy_range = energy[energy_start:energy_end]\n",
    "energy_min, energy_max = np.min(energy_range), np.max(energy_range)\n",
    "\n",
    "fig = plt.figure(figsize=(15, 3), dpi=80)\n",
    "ax = fig.add_subplot(111)\n",
    "\n",
    "ax.xaxis.set_ticks(range(plot_start, plot_end))\n",
    "ax.xaxis.set_ticklabels(text[plot_start:plot_end])\n",
    "\n",
    "r = np.arange(plot_start, plot_end)\n",
    "boundary_locations = r[start_word_mask[plot_start:plot_end]]\n",
    "ax.vlines(boundary_locations -0.5,energy_min, energy_max)\n",
    "\n",
    "ax.plot(-0.5 + np.arange(energy_start, energy_end), energy_range)\n",
    "\n",
    "\n",
    "fig.show()"
   ]
  },
  {
   "cell_type": "code",
   "execution_count": 244,
   "metadata": {
    "collapsed": false
   },
   "outputs": [
    {
     "data": {
      "text/plain": [
       "array([-5.,  5.])"
      ]
     },
     "execution_count": 244,
     "metadata": {},
     "output_type": "execute_result"
    }
   ],
   "source": []
  },
  {
   "cell_type": "code",
   "execution_count": 239,
   "metadata": {
    "collapsed": false
   },
   "outputs": [
    {
     "name": "stdout",
     "output_type": "stream",
     "text": [
      "Object `ax.hxlines` not found.\n"
     ]
    }
   ],
   "source": []
  },
  {
   "cell_type": "code",
   "execution_count": null,
   "metadata": {
    "collapsed": true
   },
   "outputs": [],
   "source": []
  }
 ],
 "metadata": {
  "kernelspec": {
   "display_name": "Python 2",
   "language": "python",
   "name": "python2"
  },
  "language_info": {
   "codemirror_mode": {
    "name": "ipython",
    "version": 2
   },
   "file_extension": ".py",
   "mimetype": "text/x-python",
   "name": "python",
   "nbconvert_exporter": "python",
   "pygments_lexer": "ipython2",
   "version": "2.7.6"
  }
 },
 "nbformat": 4,
 "nbformat_minor": 0
}
