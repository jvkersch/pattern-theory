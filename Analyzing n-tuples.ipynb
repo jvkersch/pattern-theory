{
 "cells": [
  {
   "cell_type": "markdown",
   "metadata": {},
   "source": [
    "Analyzing n-tuples in some databases\n",
    "=="
   ]
  },
  {
   "cell_type": "markdown",
   "metadata": {},
   "source": [
    "One of the first exercises in Pattern Theory deals with patterns of n-tuples in databases. Here, we look at the occcurence of successive letters and words in an English text. I chose Pride and Prejudice, since it is the most popular book on Project Gutenberg, and it's also a pretty good book in its own right."
   ]
  },
  {
   "cell_type": "code",
   "execution_count": 1,
   "metadata": {
    "collapsed": true
   },
   "outputs": [],
   "source": [
    "%matplotlib inline\n",
    "import matplotlib\n",
    "import matplotlib.pyplot as plt\n",
    "matplotlib.style.use('ggplot')\n",
    "\n",
    "import numpy as np\n",
    "import pandas as pd"
   ]
  },
  {
   "cell_type": "markdown",
   "metadata": {},
   "source": [
    "Downloading the text and preprocessing\n",
    "--"
   ]
  },
  {
   "cell_type": "markdown",
   "metadata": {},
   "source": [
    "Let's begin by downloading the book from Project Gutenberg and extracting the actual content from our download (the book file has a preamble and a license file, which we don't need). We're using the `requests` library because of its clean api, and we're searching for the first and last line of the book to extract the book content from our download."
   ]
  },
  {
   "cell_type": "code",
   "execution_count": 2,
   "metadata": {
    "collapsed": false
   },
   "outputs": [
    {
     "name": "stdout",
     "output_type": "stream",
     "text": [
      "﻿The Project Gutenberg EBook of Pride and Prejudice, by Jane Austen\r\n",
      "\r\n",
      "This eBook is for the use of anyone anywhere at no cost and with\r\n",
      "almost no restrictions whatsoever.  You may copy it, give it aw\n"
     ]
    }
   ],
   "source": [
    "import requests\n",
    "resp = requests.get('http://www.gutenberg.org/cache/epub/1342/pg1342.txt')\n",
    "print resp.text[:200]"
   ]
  },
  {
   "cell_type": "code",
   "execution_count": 3,
   "metadata": {
    "collapsed": false
   },
   "outputs": [],
   "source": [
    "text_start_line = 'It is a truth universally acknowledged'\n",
    "text_end_line = 'End of the Project Gutenberg EBook of Pride and Prejudice, by Jane Austen'"
   ]
  },
  {
   "cell_type": "code",
   "execution_count": 4,
   "metadata": {
    "collapsed": false
   },
   "outputs": [],
   "source": [
    "text = resp.text\n",
    "text = text[text.find(text_start_line):text.find(text_end_line)]"
   ]
  },
  {
   "cell_type": "markdown",
   "metadata": {},
   "source": [
    "Let's have a look at the beginning and the end of the book. As you can see below, there's quite a bit of extraneous whitespace, but we will filter that out in our next step."
   ]
  },
  {
   "cell_type": "code",
   "execution_count": 5,
   "metadata": {
    "collapsed": false
   },
   "outputs": [
    {
     "name": "stdout",
     "output_type": "stream",
     "text": [
      "It is a truth universally acknowledged, that a single man in possession\r\n",
      "of a good fortune, must be in want of a wife.\r\n",
      "\r\n",
      "However little known the feelings or v\n"
     ]
    }
   ],
   "source": [
    "print text[:160]"
   ]
  },
  {
   "cell_type": "code",
   "execution_count": 6,
   "metadata": {
    "collapsed": false,
    "scrolled": true
   },
   "outputs": [
    {
     "name": "stdout",
     "output_type": "stream",
     "text": [
      "hey were both ever\r\n",
      "sensible of the warmest gratitude towards the persons who, by bringing\r\n",
      "her into Derbyshire, had been the means of uniting them.\r\n",
      "\r\n",
      "\r\n",
      "\r\n",
      "\r\n",
      "\r\n",
      "\n"
     ]
    }
   ],
   "source": [
    "print text[-160:]"
   ]
  },
  {
   "cell_type": "code",
   "execution_count": 7,
   "metadata": {
    "collapsed": false
   },
   "outputs": [
    {
     "data": {
      "text/plain": [
       "unicode"
      ]
     },
     "execution_count": 7,
     "metadata": {},
     "output_type": "execute_result"
    }
   ],
   "source": [
    "type(text)"
   ]
  },
  {
   "cell_type": "code",
   "execution_count": 8,
   "metadata": {
    "collapsed": false
   },
   "outputs": [
    {
     "data": {
      "text/plain": [
       "681.3955078125"
      ]
     },
     "execution_count": 8,
     "metadata": {},
     "output_type": "execute_result"
    }
   ],
   "source": [
    "len(text) / 1024.0  # Size of the book in kB."
   ]
  },
  {
   "cell_type": "markdown",
   "metadata": {},
   "source": [
    "To facilitate our corpus a bit, we will convert it to lowercase, we'll remove anything that isn't 'a' to 'z' or a space, and we'll collapse successive sequences of whitespace into single spaces. This is easily done with Python's `re` module; for more complex preprocessing tasks the [`regex` library](https://pypi.python.org/pypi/regex) is often a good fit. This is especially the case if you're dealing with Unicode. As our text is fully within the good old ASCII realm, we'll just stick with `re`."
   ]
  },
  {
   "cell_type": "code",
   "execution_count": 9,
   "metadata": {
    "collapsed": false
   },
   "outputs": [],
   "source": [
    "import re\n",
    "text = text.encode('ascii')\n",
    "text = text.lower()\n",
    "text = re.sub(\"[^a-z\\s]+\", \"\", text)\n",
    "text = re.sub(\"\\s+\", \" \", text)"
   ]
  },
  {
   "cell_type": "code",
   "execution_count": 10,
   "metadata": {
    "collapsed": false
   },
   "outputs": [
    {
     "name": "stdout",
     "output_type": "stream",
     "text": [
      "it is a truth universally acknowledged that a single man in possession of a good fortune must be in want of a wife however little known the feelings or views of\n"
     ]
    }
   ],
   "source": [
    "print text[:160]"
   ]
  },
  {
   "cell_type": "markdown",
   "metadata": {},
   "source": [
    "Individual letter counts\n",
    "--"
   ]
  },
  {
   "cell_type": "markdown",
   "metadata": {},
   "source": [
    "This leaves us with a sanitized version of the text, which we'll use for our subsequent analysis. The first thing that we can do is to take a look at the counts of individual characters: while this doesn't teach us anything new, it serves as a good test to check that all is well and nothing went wrong during our preprocessing step. We see that space is the most common character, followed by 'e', 't', 'a', and so on, just as we'd expect."
   ]
  },
  {
   "cell_type": "code",
   "execution_count": 11,
   "metadata": {
    "collapsed": false
   },
   "outputs": [
    {
     "name": "stdout",
     "output_type": "stream",
     "text": [
      "[(' ', 121463), ('e', 69366), ('t', 46641), ('a', 41681), ('o', 40039), ('i', 37830), ('n', 37687), ('h', 34066), ('s', 33109), ('r', 32295), ('d', 22299), ('l', 21592), ('u', 14985), ('m', 14764), ('c', 13460), ('y', 12706), ('w', 12305), ('f', 12000), ('g', 10030), ('b', 9087), ('p', 8224), ('v', 5726), ('k', 3208), ('z', 936), ('j', 871), ('x', 839), ('q', 627)]\n"
     ]
    }
   ],
   "source": [
    "# Counts of individual letters.\n",
    "from collections import Counter\n",
    "counter = Counter(text)\n",
    "print counter.most_common(27)"
   ]
  },
  {
   "cell_type": "markdown",
   "metadata": {},
   "source": [
    "To make a plot, we'll put the contents of the counter into a Pandas Series object, which is basically a 1-dimensional data structure with custom labels. For now, Pandas just gives us nice formatting and plotting options; later on we'll use some of its more advanced functionality."
   ]
  },
  {
   "cell_type": "code",
   "execution_count": 12,
   "metadata": {
    "collapsed": false
   },
   "outputs": [],
   "source": [
    "import string\n",
    "letters = list(string.lowercase) + [' ']\n",
    "counts = pd.Series(\n",
    "    index=letters,\n",
    "    data=[counter[letter] for letter in letters]\n",
    ")"
   ]
  },
  {
   "cell_type": "code",
   "execution_count": 13,
   "metadata": {
    "collapsed": false
   },
   "outputs": [],
   "source": [
    "pdf = counts / np.sum(counts)"
   ]
  },
  {
   "cell_type": "code",
   "execution_count": 14,
   "metadata": {
    "collapsed": false
   },
   "outputs": [
    {
     "data": {
      "text/plain": [
       "<matplotlib.axes._subplots.AxesSubplot at 0x10eebde10>"
      ]
     },
     "execution_count": 14,
     "metadata": {},
     "output_type": "execute_result"
    },
    {
     "data": {
      "image/png": "[encoded data removed]",
      "text/plain": [
       "<matplotlib.figure.Figure at 0x104f93a50>"
      ]
     },
     "metadata": {},
     "output_type": "display_data"
    }
   ],
   "source": [
    "pdf.plot(kind='bar')"
   ]
  },
  {
   "cell_type": "markdown",
   "metadata": {},
   "source": [
    "Lastly, let's calculate the entropy of the single-letter distribution. The _entropy_ of a discrete probability density function is given by $H = \\sum_i p_i \\log_2 p_i$ and measures the average information (in bits) in a sample drawn from this distribution. If all characters were equally likely (i.e. the pdf is uniform), we'd need $\\log_2(27) \\approx 4.75$ bits to represent the individual characters. The fact that the entropy is lower indicates that there's a certain degree of redudancy in our a-to-z encoding."
   ]
  },
  {
   "cell_type": "code",
   "execution_count": 15,
   "metadata": {
    "collapsed": false
   },
   "outputs": [
    {
     "name": "stdout",
     "output_type": "stream",
     "text": [
      "4.09931661652\n"
     ]
    }
   ],
   "source": [
    "H = -np.dot(pdf, np.log2(pdf))\n",
    "print H"
   ]
  },
  {
   "cell_type": "markdown",
   "metadata": {},
   "source": [
    "Conditional probabilities for digrams\n",
    "--"
   ]
  },
  {
   "cell_type": "markdown",
   "metadata": {
    "collapsed": true
   },
   "source": [
    "Let's take a quick look at the probability density for letter pairs, and the probability $P(\\ell_1 | \\ell_0)$ that a letter $\\ell_1$ occurs, given that the letter preceding it is $\\ell_0$. We get this PDFs in essentially the same way as the single-letter PDF, by counting occurrences of letter pairs (digrams) and normalizing."
   ]
  },
  {
   "cell_type": "code",
   "execution_count": 16,
   "metadata": {
    "collapsed": false
   },
   "outputs": [],
   "source": [
    "digrams = zip(text[:-1], text[1:])"
   ]
  },
  {
   "cell_type": "code",
   "execution_count": 17,
   "metadata": {
    "collapsed": false
   },
   "outputs": [
    {
     "data": {
      "text/plain": [
       "[('i', 't'),\n",
       " ('t', ' '),\n",
       " (' ', 'i'),\n",
       " ('i', 's'),\n",
       " ('s', ' '),\n",
       " (' ', 'a'),\n",
       " ('a', ' '),\n",
       " (' ', 't'),\n",
       " ('t', 'r'),\n",
       " ('r', 'u')]"
      ]
     },
     "execution_count": 17,
     "metadata": {},
     "output_type": "execute_result"
    }
   ],
   "source": [
    "digrams[:10]"
   ]
  },
  {
   "cell_type": "code",
   "execution_count": 18,
   "metadata": {
    "collapsed": false
   },
   "outputs": [],
   "source": [
    "counts = Counter(digrams)"
   ]
  },
  {
   "cell_type": "code",
   "execution_count": 19,
   "metadata": {
    "collapsed": false
   },
   "outputs": [
    {
     "data": {
      "text/plain": [
       "[(('e', ' '), 21949),\n",
       " ((' ', 't'), 15969),\n",
       " (('h', 'e'), 14823),\n",
       " (('t', 'h'), 13748),\n",
       " (('d', ' '), 13739)]"
      ]
     },
     "execution_count": 19,
     "metadata": {},
     "output_type": "execute_result"
    }
   ],
   "source": [
    "counts.most_common(5)"
   ]
  },
  {
   "cell_type": "code",
   "execution_count": 20,
   "metadata": {
    "collapsed": false
   },
   "outputs": [],
   "source": [
    "first_letter, second_letter = zip(*counts.keys())\n",
    "values = counts.values()"
   ]
  },
  {
   "cell_type": "markdown",
   "metadata": {},
   "source": [
    "This information fits very naturally into a pandas DataFrame. A DataFrame is basically a big table with an index labeling the rows, and one or several columns. We put our counts into a dataframe, and in the last step we obtain the PDF by summing over the counts column and dividing the individual counts by that sum."
   ]
  },
  {
   "cell_type": "code",
   "execution_count": 21,
   "metadata": {
    "collapsed": false
   },
   "outputs": [],
   "source": [
    "p2 = pd.DataFrame({\n",
    "    'First Letter': first_letter,\n",
    "    'Second Letter': second_letter,\n",
    "    'Count': values\n",
    "}, columns=['First Letter', 'Second Letter', 'Count'])\n",
    "\n",
    "p2['Count'] /= p2['Count'].sum()"
   ]
  },
  {
   "cell_type": "markdown",
   "metadata": {
    "collapsed": true
   },
   "source": [
    "To get the conditional PDF in a form that actually tells us something, we first turn `p2` into a _pivot table_, a table in which the row axis is labeled by the first letter, the columns by the second letter, and the table entries are probabilities. This allows to easily sum over the rows so that we get the conditional probability by the formula $$P(\\ell_1 | \\ell_0) = \\frac{P(\\ell_1 \\ell_0)}{P(\\ell_0)}.$$\n",
    "You may wonder about the `fillna` command in the last step --- it turns out that there are certain digrams, like 'qx', which don't occur at all in our text. When we created our pivot table, Pandas represented those as NaN (not a number).  Given that those diagrams actually have probability 0, we replace all NaNs by 0 with `fillna`."
   ]
  },
  {
   "cell_type": "code",
   "execution_count": 22,
   "metadata": {
    "collapsed": false
   },
   "outputs": [],
   "source": [
    "frequency_table = p2.pivot(index='First Letter', columns='Second Letter', values='Count')\n",
    "conditional_pdf = frequency_table.div(frequency_table.sum(axis=1), axis=0)\n",
    "conditional_pdf = conditional_pdf.fillna(0)"
   ]
  },
  {
   "cell_type": "code",
   "execution_count": 23,
   "metadata": {
    "collapsed": false
   },
   "outputs": [
    {
     "data": {
      "text/html": [
       "<div style=\"max-height:1000px;max-width:1500px;overflow:auto;\">\n",
       "<table border=\"1\" class=\"dataframe\">\n",
       "  <thead>\n",
       "    <tr style=\"text-align: right;\">\n",
       "      <th>Second Letter</th>\n",
       "      <th>a</th>\n",
       "      <th>b</th>\n",
       "      <th>c</th>\n",
       "      <th>d</th>\n",
       "      <th>e</th>\n",
       "      <th>f</th>\n",
       "    </tr>\n",
       "    <tr>\n",
       "      <th>First Letter</th>\n",
       "      <th></th>\n",
       "      <th></th>\n",
       "      <th></th>\n",
       "      <th></th>\n",
       "      <th></th>\n",
       "      <th></th>\n",
       "    </tr>\n",
       "  </thead>\n",
       "  <tbody>\n",
       "    <tr>\n",
       "      <th>a</th>\n",
       "      <td> 0.000168</td>\n",
       "      <td> 0.036875</td>\n",
       "      <td> 0.026751</td>\n",
       "      <td> 0.058012</td>\n",
       "      <td> 0.000144</td>\n",
       "      <td> 0.011132</td>\n",
       "    </tr>\n",
       "    <tr>\n",
       "      <th>b</th>\n",
       "      <td> 0.031804</td>\n",
       "      <td> 0.000770</td>\n",
       "      <td> 0.000000</td>\n",
       "      <td> 0.000110</td>\n",
       "      <td> 0.458237</td>\n",
       "      <td> 0.000000</td>\n",
       "    </tr>\n",
       "    <tr>\n",
       "      <th>c</th>\n",
       "      <td> 0.103938</td>\n",
       "      <td> 0.000074</td>\n",
       "      <td> 0.024071</td>\n",
       "      <td> 0.000223</td>\n",
       "      <td> 0.184324</td>\n",
       "      <td> 0.000000</td>\n",
       "    </tr>\n",
       "    <tr>\n",
       "      <th>d</th>\n",
       "      <td> 0.047760</td>\n",
       "      <td> 0.000359</td>\n",
       "      <td> 0.000045</td>\n",
       "      <td> 0.009238</td>\n",
       "      <td> 0.113906</td>\n",
       "      <td> 0.001121</td>\n",
       "    </tr>\n",
       "    <tr>\n",
       "      <th>e</th>\n",
       "      <td> 0.045008</td>\n",
       "      <td> 0.000764</td>\n",
       "      <td> 0.023513</td>\n",
       "      <td> 0.077920</td>\n",
       "      <td> 0.027247</td>\n",
       "      <td> 0.009817</td>\n",
       "    </tr>\n",
       "    <tr>\n",
       "      <th>f</th>\n",
       "      <td> 0.065583</td>\n",
       "      <td> 0.000083</td>\n",
       "      <td> 0.000500</td>\n",
       "      <td> 0.000500</td>\n",
       "      <td> 0.093083</td>\n",
       "      <td> 0.047917</td>\n",
       "    </tr>\n",
       "  </tbody>\n",
       "</table>\n",
       "</div>"
      ],
      "text/plain": [
       "Second Letter         a         b         c         d         e         f\n",
       "First Letter                                                             \n",
       "a              0.000168  0.036875  0.026751  0.058012  0.000144  0.011132\n",
       "b              0.031804  0.000770  0.000000  0.000110  0.458237  0.000000\n",
       "c              0.103938  0.000074  0.024071  0.000223  0.184324  0.000000\n",
       "d              0.047760  0.000359  0.000045  0.009238  0.113906  0.001121\n",
       "e              0.045008  0.000764  0.023513  0.077920  0.027247  0.009817\n",
       "f              0.065583  0.000083  0.000500  0.000500  0.093083  0.047917"
      ]
     },
     "execution_count": 23,
     "metadata": {},
     "output_type": "execute_result"
    }
   ],
   "source": [
    "conditional_pdf.loc['a':'f', 'a':'f']  # Just a slice, so we don't fill the whole page with numbers."
   ]
  },
  {
   "cell_type": "markdown",
   "metadata": {},
   "source": [
    "Getting useful info out of the full 27x27 table is not that straightforward, so let's plot the probabilities instead."
   ]
  },
  {
   "cell_type": "code",
   "execution_count": 24,
   "metadata": {
    "collapsed": false
   },
   "outputs": [
    {
     "data": {
      "image/png": "[encoded data removed]",
      "text/plain": [
       "<matplotlib.figure.Figure at 0x10f194790>"
      ]
     },
     "metadata": {},
     "output_type": "display_data"
    }
   ],
   "source": [
    "plt.imshow(conditional_pdf, interpolation='none', cmap='coolwarm')\n",
    "labels = conditional_pdf.index\n",
    "_ = plt.xticks(range(len(labels)), labels)\n",
    "_ = plt.yticks(range(len(labels)), labels)\n",
    "plt.grid(False)"
   ]
  },
  {
   "cell_type": "markdown",
   "metadata": {},
   "source": [
    "The one feature that immediately stands out from the plot is that the probability to have 'q' followed by 'u' is very high, whereas the probability to have any other letter following 'q' is essentially zero, just as we'd expect. Let's take a slice of our dataframe and look at the numbers."
   ]
  },
  {
   "cell_type": "code",
   "execution_count": 25,
   "metadata": {
    "collapsed": false
   },
   "outputs": [
    {
     "data": {
      "text/plain": [
       "Second Letter\n",
       "                 0.001595\n",
       "a                0.000000\n",
       "b                0.000000\n",
       "c                0.000000\n",
       "d                0.000000\n",
       "e                0.000000\n",
       "f                0.000000\n",
       "g                0.000000\n",
       "h                0.000000\n",
       "i                0.000000\n",
       "j                0.000000\n",
       "k                0.000000\n",
       "l                0.000000\n",
       "m                0.000000\n",
       "n                0.000000\n",
       "o                0.000000\n",
       "p                0.000000\n",
       "q                0.000000\n",
       "r                0.000000\n",
       "s                0.000000\n",
       "t                0.000000\n",
       "u                0.998405\n",
       "v                0.000000\n",
       "w                0.000000\n",
       "x                0.000000\n",
       "y                0.000000\n",
       "z                0.000000\n",
       "Name: q, dtype: float64"
      ]
     },
     "execution_count": 25,
     "metadata": {},
     "output_type": "execute_result"
    }
   ],
   "source": [
    "conditional_pdf.loc['q']"
   ]
  },
  {
   "cell_type": "markdown",
   "metadata": {},
   "source": [
    "The first entry in the table above represents the space character, and this initially baffled me. What word in the English language ends in 'q'? Let's find out."
   ]
  },
  {
   "cell_type": "code",
   "execution_count": 26,
   "metadata": {
    "collapsed": false
   },
   "outputs": [],
   "source": [
    "def find_words(substring):\n",
    "    \"\"\"Return a list of all words that contain a given substring.\n",
    "    \"\"\"\n",
    "    substring = substring.replace(' ', '\\s')\n",
    "    regexp = '(?P<word>\\w*{}\\w*)'.format(substring)\n",
    "    return [match.groupdict()['word'] for match in re.finditer(regexp, text)]"
   ]
  },
  {
   "cell_type": "code",
   "execution_count": 27,
   "metadata": {
    "collapsed": false
   },
   "outputs": [
    {
     "data": {
      "text/plain": [
       "['quickness',\n",
       " 'quick',\n",
       " 'acquainted',\n",
       " 'acquaintance',\n",
       " 'quite',\n",
       " 'acquaintance',\n",
       " 'acquaintance',\n",
       " 'acquaintances',\n",
       " 'questions',\n",
       " 'quite']"
      ]
     },
     "execution_count": 27,
     "metadata": {},
     "output_type": "execute_result"
    }
   ],
   "source": [
    "find_words('qu')[:10]"
   ]
  },
  {
   "cell_type": "code",
   "execution_count": 28,
   "metadata": {
    "collapsed": false
   },
   "outputs": [
    {
     "data": {
      "text/plain": [
       "['esq to']"
      ]
     },
     "execution_count": 28,
     "metadata": {},
     "output_type": "execute_result"
    }
   ],
   "source": [
    "find_words('q ')[:10]"
   ]
  },
  {
   "cell_type": "markdown",
   "metadata": {},
   "source": [
    "\"Esq\" --- that explains a lot!\n",
    "\n",
    "To conclude this part, let's look at the entropies of the distributions $P(\\ell_1 | \\ell_0)$ for fixed values of $\\ell_0$. The entropy for $P(\\ell_1 | \\ell_0 = q)$ is almost zero, since if a 'q' occurs, we know it's almost certain that the next letter will be a 'u'. By contrast, the entropy for $P(\\ell_1 | \\ell_0 = \\mathrm{space})$ is quite high, indicating that essentially anything can follow a space."
   ]
  },
  {
   "cell_type": "code",
   "execution_count": 29,
   "metadata": {
    "collapsed": false
   },
   "outputs": [
    {
     "data": {
      "text/plain": [
       "<matplotlib.axes._subplots.AxesSubplot at 0x116acdb50>"
      ]
     },
     "execution_count": 29,
     "metadata": {},
     "output_type": "execute_result"
    },
    {
     "data": {
      "image/png": "[encoded data removed]",
      "text/plain": [
       "<matplotlib.figure.Figure at 0x116acd510>"
      ]
     },
     "metadata": {},
     "output_type": "display_data"
    }
   ],
   "source": [
    "from scipy.stats import entropy\n",
    "\n",
    "conditional_entropy = pd.Series(\n",
    "    index=letters,\n",
    "    data=[entropy(conditional_pdf.loc[letter], base=2) for letter in letters]\n",
    ")\n",
    "conditional_entropy.plot(kind='bar')"
   ]
  },
  {
   "cell_type": "markdown",
   "metadata": {},
   "source": [
    "Shannon's game: probabilistically generating a new text\n",
    "--"
   ]
  },
  {
   "cell_type": "markdown",
   "metadata": {},
   "source": [
    "We can play the same game for trigrams, quadgrams, and other higher-order word snippets. Let's be a bit more organized and create some functions to do the heavy lifting for us. We'll also change our terminology and talk about \"tokens\" instead of letters, since it turns out that these functions can equally well be applied to texts made up of arbitrary collections of tokens."
   ]
  },
  {
   "cell_type": "code",
   "execution_count": 30,
   "metadata": {
    "collapsed": true
   },
   "outputs": [],
   "source": [
    "def get_ngrams(text, n=3):\n",
    "    \"\"\"Create a list of n-grams from a given text.\n",
    "    \"\"\"\n",
    "    return zip(*[text[k:k - n] for k in range(n)])"
   ]
  },
  {
   "cell_type": "code",
   "execution_count": 31,
   "metadata": {
    "collapsed": false
   },
   "outputs": [
    {
     "name": "stdout",
     "output_type": "stream",
     "text": [
      "it i\n",
      "t is\n",
      " is \n",
      "is a\n",
      "s a \n",
      " a t\n",
      "a tr\n",
      " tru\n",
      "trut\n",
      "ruth\n"
     ]
    }
   ],
   "source": [
    "# Print the first 10 quadgrams in the book.\n",
    "quadgrams = get_ngrams(text, 4)\n",
    "for quadgram in quadgrams[:10]:\n",
    "    print ''.join(quadgram)"
   ]
  },
  {
   "cell_type": "code",
   "execution_count": 32,
   "metadata": {
    "collapsed": true
   },
   "outputs": [],
   "source": [
    "def pdf(ngrams):\n",
    "    \"\"\"Return a PDF given a list of n-grams.\n",
    "    \"\"\"\n",
    "    counter = Counter(ngrams)\n",
    "    pdf = pd.Series(index=counter.keys(), data=counter.values())\n",
    "    pdf /= pdf.sum()\n",
    "    return pdf"
   ]
  },
  {
   "cell_type": "code",
   "execution_count": 33,
   "metadata": {
    "collapsed": false
   },
   "outputs": [
    {
     "data": {
      "text/plain": [
       "( , t, h, e)    0.009896\n",
       "(t, h, e,  )    0.006585\n",
       "( , t, o,  )    0.006274\n",
       "(a, n, d,  )    0.005699\n",
       "( , o, f,  )    0.005469\n",
       "( , a, n, d)    0.005363\n",
       "(i, n, g,  )    0.004880\n",
       "(h, e, r,  )    0.004725\n",
       "( , h, e, r)    0.003914\n",
       "( , y, o, u)    0.003147\n",
       "(h, a, t,  )    0.003139\n",
       "( , t, h, a)    0.002893\n",
       "( , i, n,  )    0.002831\n",
       "( , w, a, s)    0.002805\n",
       "(w, a, s,  )    0.002805\n",
       "...\n",
       "(e, n, b, u)    0.000002\n",
       "( , s, m, o)    0.000002\n",
       "(u,  , u, p)    0.000002\n",
       "(o, b, e, i)    0.000002\n",
       "( , e, n, r)    0.000002\n",
       "(g,  , k, e)    0.000002\n",
       "( , e,  , g)    0.000002\n",
       "(r, e, d, r)    0.000002\n",
       "(x, i, g, e)    0.000002\n",
       "(l, e, f, o)    0.000002\n",
       "(e, v, a, b)    0.000002\n",
       "(o, r, e, b)    0.000002\n",
       "(e, n, f, o)    0.000002\n",
       "(a, u, g, u)    0.000002\n",
       "(g, t, o, n)    0.000002\n",
       "Length: 16280, dtype: float64"
      ]
     },
     "execution_count": 33,
     "metadata": {},
     "output_type": "execute_result"
    }
   ],
   "source": [
    "p4 = pdf(quadgrams)\n",
    "p4.sort(ascending=False); p4"
   ]
  },
  {
   "cell_type": "markdown",
   "metadata": {},
   "source": [
    "Finally, we construct the conditional PDF expressing the probability of a token given the previous $n$ tokens. This requires a bit of Pandas magic; basically we pull the PDF on $n + 1$ tokens apart so we can marginalize over the last token, and then we normalize."
   ]
  },
  {
   "cell_type": "code",
   "execution_count": 34,
   "metadata": {
    "collapsed": false
   },
   "outputs": [],
   "source": [
    "def conditional_pdf(text, n):\n",
    "    \"\"\"Return the conditional PDF for a token given n previous tokens from an alphabet.\n",
    "    \"\"\"\n",
    "    pdf_n = pdf(get_ngrams(text, n + 1))\n",
    "\n",
    "    # Replace the index on pdf_n, which consists of (n+1)-tuples, by a MultiIndex\n",
    "    # on two levels, where the first level is labeled by the first n elements in the tuple,\n",
    "    # and the second level by the remaining element.\n",
    "    def split_tuple(ix):\n",
    "        return ix[:-1], ix[-1]\n",
    "    pdf_n.index = pd.MultiIndex.from_tuples([split_tuple(ix) for ix in pdf_n.index])\n",
    "    \n",
    "    # Marginalize over the last letter to get the PDF of (n-1)-grams.\n",
    "    m = pdf_n.groupby(level=[0]).sum()\n",
    "\n",
    "    # Normalize by the marginalized distribution.\n",
    "    return pdf_n.div(m, level=0)"
   ]
  },
  {
   "cell_type": "code",
   "execution_count": 35,
   "metadata": {
    "collapsed": false
   },
   "outputs": [],
   "source": [
    "c4 = conditional_pdf(text, 4)"
   ]
  },
  {
   "cell_type": "markdown",
   "metadata": {},
   "source": [
    "Sanity check: given that the first four characters are 'hear', what are the possible subsequent characters and their probabilities?"
   ]
  },
  {
   "cell_type": "code",
   "execution_count": 36,
   "metadata": {
    "collapsed": false
   },
   "outputs": [
    {
     "data": {
      "text/plain": [
       "t    0.250000\n",
       "e    0.003968\n",
       "i    0.099206\n",
       "s    0.003968\n",
       "     0.285714\n",
       "d    0.357143\n",
       "dtype: float64"
      ]
     },
     "execution_count": 36,
     "metadata": {},
     "output_type": "execute_result"
    }
   ],
   "source": [
    "c4.loc[('h', 'e', 'a', 'r')]"
   ]
  },
  {
   "cell_type": "code",
   "execution_count": 37,
   "metadata": {
    "collapsed": false
   },
   "outputs": [
    {
     "data": {
      "text/plain": [
       "1.0"
      ]
     },
     "execution_count": 37,
     "metadata": {},
     "output_type": "execute_result"
    }
   ],
   "source": [
    "# These probabilities should sum to 1.0 .\n",
    "c4.loc[('h', 'e', 'a', 'r')].sum()"
   ]
  },
  {
   "cell_type": "markdown",
   "metadata": {},
   "source": [
    "We're now in a position to play Shannon's game. Given an initial n-gram $\\ell_1 \\cdots \\ell_n$, we'll draw a sample from $P(\\ell | \\ell_1 \\cdots \\ell_n)$, emit that, and repeat. This should give us something that at least vaguely resembles our original text."
   ]
  },
  {
   "cell_type": "code",
   "execution_count": 38,
   "metadata": {
    "collapsed": false
   },
   "outputs": [],
   "source": [
    "import numpy\n",
    "\n",
    "def generate_text(conditional_pdf, initial, length=1000):\n",
    "    \"\"\"Play Shannon's game!\n",
    "    \"\"\"\n",
    "    if isinstance(initial, str):\n",
    "        initial = tuple(initial)\n",
    "\n",
    "    for _ in xrange(length):\n",
    "        pdf = conditional_pdf.loc[initial]\n",
    "        next_token = numpy.random.choice(pdf.index, p=pdf)\n",
    "        initial = (initial + (next_token, ))[1:]\n",
    "        yield next_token"
   ]
  },
  {
   "cell_type": "markdown",
   "metadata": {},
   "source": [
    "As we take more and more of the history into account, that is, when $n$ increases, we expect to get more and more \"plausible\" representations of the text. Let's check this by generating a string of 250 characters taking into account the previous 2, 3, 4, 5 characters. As you can see below, the output for $n = 2$ consists of completely garbled nonsense with the occasional word fragment showing up, whereas for $n = 5$ we get a nice stream-of-conciousness in the style of the original text. For me, $n = 4$ is the cutest, with portmanteaus such as \"regimentioned\" :-)"
   ]
  },
  {
   "cell_type": "code",
   "execution_count": 39,
   "metadata": {
    "collapsed": false
   },
   "outputs": [
    {
     "name": "stdout",
     "output_type": "stream",
     "text": [
      "ninquesto here the quetter dowerst th poselingley uncened wishe it sou bennethe crionly he in othavieve but beffectellet of i knoid hat no thersed ung whe grid susester to sen to she wonly haptimme heits wersest i th whin ande ance a he oth cand to t\n"
     ]
    }
   ],
   "source": [
    "c2 = conditional_pdf(text, 2)\n",
    "print ''.join(generate_text(c2, 'he', 250))"
   ]
  },
  {
   "cell_type": "code",
   "execution_count": 40,
   "metadata": {
    "collapsed": false
   },
   "outputs": [
    {
     "name": "stdout",
     "output_type": "stream",
     "text": [
      "r from you have subjects timention you hapterwishe guill crect and i amust is not was to darcy volutiful the uncle and one chem withe was thanimagined bing fortial of mation cons assipid nexteen conquite had but sisterwarded mr days and life that ins\n"
     ]
    }
   ],
   "source": [
    "c3 = conditional_pdf(text, 3)\n",
    "print ''.join(generate_text(c3, 'hea', 250))"
   ]
  },
  {
   "cell_type": "code",
   "execution_count": 41,
   "metadata": {
    "collapsed": false
   },
   "outputs": [
    {
     "name": "stdout",
     "output_type": "stream",
     "text": [
      "d him i had he first write employments they were on the met elizabeth in her times behaving is long ordained told made elizabeth it they had seekindness bingley forsters was overheart i have not depend would perfected to be scarcely letter and if i s\n"
     ]
    }
   ],
   "source": [
    "c4 = conditional_pdf(text, 4)\n",
    "print ''.join(generate_text(c4, 'hear', 250))"
   ]
  },
  {
   "cell_type": "code",
   "execution_count": 42,
   "metadata": {
    "collapsed": false
   },
   "outputs": [
    {
     "name": "stdout",
     "output_type": "stream",
     "text": [
      "ening which make the against him her uncle and almost delivered abundants cooking our it and conduct of my affection for a most earnest most resolved in her forgive which will only on your fine eyelashes charlottes of brother not at least in the you \n"
     ]
    }
   ],
   "source": [
    "c5 = conditional_pdf(text, 5)\n",
    "print ''.join(generate_text(c5, 'heart', 250))"
   ]
  },
  {
   "cell_type": "markdown",
   "metadata": {
    "collapsed": false
   },
   "source": [
    "Finding word boundaries via the binding energy\n",
    "--"
   ]
  },
  {
   "cell_type": "markdown",
   "metadata": {
    "collapsed": false
   },
   "source": [
    "Using relative probabilities, we can also get an idea of where the word boundaries are in our text. We'll delete the spaces from our text, leaving a string \"itisatruthuniversallyacknowledged...\" \n",
    "\n",
    "For each 4-gram $abcd$, we expect to have a word boundary between $ab$ and $cd$ when these two digrams are (more or less) independent. Inside a word, we'd expect $cd$ to be determined at least partially by $ab$. To turn this into something more concrete, we define the _binding energy_ $E(abcd)$ by\n",
    "$$\n",
    "  E(abcd) = \\log_2 \\frac{P(abcd)}{P(ab) P(cd)}.\n",
    "$$\n",
    "When $E(abcd)$ is low, $P(abcd) \\approx P(ab) P(cd)$ and $ab$ and $cd$ are relatively independent, hinting at a word boundary. By contrast, when $E(abcd)$ is high, $cd$ is highly determined by $ab$ and we expect to be inside a word. Looking for minima in $E$ will therefore give us an indication of possible word boundaries."
   ]
  },
  {
   "cell_type": "code",
   "execution_count": 43,
   "metadata": {
    "collapsed": false
   },
   "outputs": [
    {
     "name": "stdout",
     "output_type": "stream",
     "text": [
      "itisatruthuniversallyacknowledgedthatasinglemaninpossessionofagoodfortunemustbei\n",
      "[ 2  4  5 10 21 33 37 38 44 47]\n",
      "[ True False  True False  True  True False False False False  True False\n",
      " False False False False False False False False]\n"
     ]
    }
   ],
   "source": [
    "words = text.split()\n",
    "text_nospaces = ''.join(words)\n",
    "word_lengths = np.array([len(word) for word in words])\n",
    "word_boundaries = np.cumsum(word_lengths)\n",
    "print text_nospaces[:80]\n",
    "print word_boundaries[:10]\n",
    "\n",
    "# The start_word_mask is True when the corresponding letter is the first letter in a word, and False otherwise.\n",
    "start_word_mask = np.zeros(len(text_nospaces), dtype=bool)\n",
    "start_word_mask[word_boundaries[:-1]] = True\n",
    "start_word_mask[0] = True\n",
    "\n",
    "print start_word_mask[:20]"
   ]
  },
  {
   "cell_type": "code",
   "execution_count": 44,
   "metadata": {
    "collapsed": true
   },
   "outputs": [],
   "source": [
    "truncate_length = 1000\n",
    "text_nospaces = text_nospaces[:truncate_length]\n",
    "energy = np.zeros(truncate_length, dtype=float)"
   ]
  },
  {
   "cell_type": "code",
   "execution_count": 45,
   "metadata": {
    "collapsed": false
   },
   "outputs": [],
   "source": [
    "quadgrams = get_ngrams(text_nospaces, n=4)\n",
    "digrams = get_ngrams(text_nospaces, n=2)\n",
    "\n",
    "pdf4 = pdf(quadgrams)\n",
    "pdf2 = pdf(digrams)"
   ]
  },
  {
   "cell_type": "markdown",
   "metadata": {},
   "source": [
    "In the below, we slide a moving quadgram window over the text to obtain successive quadgram probabilities (and similarly for digrams). Pandas makes this easy: all we have to do is to provide a list of quadgrams to the `.loc` attribute."
   ]
  },
  {
   "cell_type": "code",
   "execution_count": 46,
   "metadata": {
    "collapsed": false
   },
   "outputs": [],
   "source": [
    "# Below, we work with the underlying numpy arrays directly (as indicated by the .values property),\n",
    "# since all we care about is the ordered data, and the index gets in the way here.\n",
    "\n",
    "quadgram_probabilities = pdf4.loc[quadgrams].values\n",
    "digram_probabilities = pdf2.loc[digrams].values\n",
    "\n",
    "energy = np.log2(quadgram_probabilities / (digram_probabilities[:-2] * digram_probabilities[2:]))"
   ]
  },
  {
   "cell_type": "markdown",
   "metadata": {},
   "source": [
    "Let's make a plot of the binding energy. The interpretation is fairly straightforward: the brown line indicates the binding energy, while the solid black vertical lines indicate the true word boundaries (remember, we saved those in a boolean mask `start_word_mask` earlier on)."
   ]
  },
  {
   "cell_type": "code",
   "execution_count": 47,
   "metadata": {
    "collapsed": false
   },
   "outputs": [
    {
     "name": "stderr",
     "output_type": "stream",
     "text": [
      "/Users/jvkersch/Library/Enthought/Canopy_64bit/User/lib/python2.7/site-packages/matplotlib/figure.py:387: UserWarning: matplotlib is currently using a non-GUI backend, so cannot show the figure\n",
      "  \"matplotlib is currently using a non-GUI backend, \"\n"
     ]
    },
    {
     "data": {
      "image/png": "[encoded data removed]",
      "text/plain": [
       "<matplotlib.figure.Figure at 0x116c5f310>"
      ]
     },
     "metadata": {},
     "output_type": "display_data"
    }
   ],
   "source": [
    "# Change these two parameters to visualize other areas of the text.\n",
    "plot_start, plot_end = 0, 50\n",
    "\n",
    "energy_start = max(plot_start, 2)\n",
    "energy_end = min(plot_end, len(energy) - 2)\n",
    "energy_range = energy[energy_start-2:energy_end-2]\n",
    "energy_min, energy_max = np.min(energy_range), np.max(energy_range)\n",
    "\n",
    "fig = plt.figure(figsize=(15, 3), dpi=80)\n",
    "ax = fig.add_subplot(111)\n",
    "\n",
    "ax.xaxis.set_ticks(range(plot_start, plot_end))\n",
    "ax.xaxis.set_ticklabels(text_nospaces[plot_start:plot_end])\n",
    "\n",
    "r = np.arange(plot_start, plot_end)\n",
    "boundary_locations = r[start_word_mask[plot_start:plot_end]]\n",
    "ax.vlines(boundary_locations -0.5,energy_min, energy_max)\n",
    "\n",
    "ax.plot(-0.5 + np.arange(energy_start, energy_end), energy_range)\n",
    "ax.set_ylim((energy_min, energy_max))\n",
    "\n",
    "fig.show()"
   ]
  },
  {
   "cell_type": "markdown",
   "metadata": {
    "collapsed": true
   },
   "source": [
    "In the plot above, you can see that the minima of the binding energy $E$ do pick up some of the (more obvious) word boundaries, like the boundary after the word 'is', the suffix '-ed', and the word 'man'. There are quite a bit of false positives too, so most likely we could do some postprocessing and improve our results. There's a better method of finding word boundaries however, involving dynamic programming, which will be explained in a future notebook."
   ]
  },
  {
   "cell_type": "markdown",
   "metadata": {},
   "source": [
    "Word probabilities and Zipf's law\n",
    "--"
   ]
  },
  {
   "cell_type": "markdown",
   "metadata": {},
   "source": [
    "Last, to demonstrate that our methods work equally well on the word-level, let's do some word analysis. Let's begin by investigating the probabilities of individual words in our text.\n",
    "\n",
    "(This is work-in-progress)"
   ]
  },
  {
   "cell_type": "code",
   "execution_count": 48,
   "metadata": {
    "collapsed": true
   },
   "outputs": [],
   "source": [
    "words = text.split()\n",
    "pdf_words = pdf(words)\n",
    "pdf_words.sort(ascending=False)"
   ]
  },
  {
   "cell_type": "code",
   "execution_count": 49,
   "metadata": {
    "collapsed": false
   },
   "outputs": [
    {
     "data": {
      "text/plain": [
       "<matplotlib.axes._subplots.AxesSubplot at 0x116ad5410>"
      ]
     },
     "execution_count": 49,
     "metadata": {},
     "output_type": "execute_result"
    },
    {
     "data": {
      "image/png": "[encoded data removed]",
      "text/plain": [
       "<matplotlib.figure.Figure at 0x116ad5fd0>"
      ]
     },
     "metadata": {},
     "output_type": "display_data"
    }
   ],
   "source": [
    "pdf_words[:10].plot(kind='bar')"
   ]
  },
  {
   "cell_type": "markdown",
   "metadata": {},
   "source": [
    "There's no obvious pattern here, until we include some more data in our plot."
   ]
  },
  {
   "cell_type": "code",
   "execution_count": 50,
   "metadata": {
    "collapsed": false
   },
   "outputs": [
    {
     "data": {
      "text/plain": [
       "<matplotlib.axes._subplots.AxesSubplot at 0x11d50b150>"
      ]
     },
     "execution_count": 50,
     "metadata": {},
     "output_type": "execute_result"
    },
    {
     "data": {
      "image/png": "[encoded data removed]",
      "text/plain": [
       "<matplotlib.figure.Figure at 0x11d4ed910>"
      ]
     },
     "metadata": {},
     "output_type": "display_data"
    }
   ],
   "source": [
    "pdf_words[:100].plot(kind='bar')"
   ]
  },
  {
   "cell_type": "markdown",
   "metadata": {},
   "source": [
    "Shannon's game for word digraphs\n",
    "--"
   ]
  },
  {
   "cell_type": "markdown",
   "metadata": {},
   "source": [
    "Finally, let's play Shannon's game on the word level. That is, given $n$ initial words $w_1, \\ldots, w_n$ we sample from the distribution $P(w | w_1, \\ldots, w_n)$ to obtain the next word, and we repeat this to obtain a stochastically generated text. Given that our encoding (using a Pandas dataframe on a MultiIndex) is sparse, we can essentially do this for any $n$, but if you look at the conditional probabilities for trigrams below, you'll see that they are all quite close to 1.0, indicating that we've removed much of the randomness at that stage."
   ]
  },
  {
   "cell_type": "code",
   "execution_count": 51,
   "metadata": {
    "collapsed": false
   },
   "outputs": [
    {
     "data": {
      "text/plain": [
       "(they, are, wanted)      in           1.00\n",
       "(no, pleasure, in)       it           0.25\n",
       "(to, retain, the)        right        1.00\n",
       "(better, she, replied)   if           1.00\n",
       "(of, them, pronounced)   him          1.00\n",
       "(when, any, dish)        on           1.00\n",
       "(in, the, shire)         she          0.50\n",
       "(that, a, person)        who          1.00\n",
       "(of, recreation, and)    amusement    1.00\n",
       "(so, splendid, a)        dinner       1.00\n",
       "(and, even, horror)      oppressed    1.00\n",
       "(who, had, known)        him          1.00\n",
       "(when, they, next)       met          1.00\n",
       "(added, you, will)       of           1.00\n",
       "(the, highest, opinion)  in           0.75\n",
       "...\n",
       "(left, the, country)            miss       0.5\n",
       "(in, his, absence)              she        1.0\n",
       "(married, all, day)             but        1.0\n",
       "(with, what, the)               owner      1.0\n",
       "(complete, my, disappointment)  would      1.0\n",
       "(and, for, all)                 the        1.0\n",
       "(in, taking, so)                decided    1.0\n",
       "(spoilt, by, admitting)         a          1.0\n",
       "(her, family, a)                subject    1.0\n",
       "(i, think, charlotte)           so         1.0\n",
       "(the, neighbourhood, it)        was        0.5\n",
       "(am, in, the)                   country    0.5\n",
       "(the, house, so)                much       1.0\n",
       "(fewer, of, whom)               i          1.0\n",
       "(been, my, folly)               pleased    1.0\n",
       "Length: 118002, dtype: float64"
      ]
     },
     "execution_count": 51,
     "metadata": {},
     "output_type": "execute_result"
    }
   ],
   "source": [
    "# Generate the conditional PDF.\n",
    "c_words = conditional_pdf(words, 3); c_words"
   ]
  },
  {
   "cell_type": "code",
   "execution_count": 52,
   "metadata": {
    "collapsed": false
   },
   "outputs": [
    {
     "name": "stdout",
     "output_type": "stream",
     "text": [
      "destined for his features are not usually influenced by my honest confession of the house was engaged by the awkwardness of the inn was under frequent discussion between her sisters was then left to him and on the contrary could\n"
     ]
    }
   ],
   "source": [
    "c2 = conditional_pdf(words, 2)\n",
    "print ' '.join(generate_text(c2, ('they', 'are'), 40))"
   ]
  },
  {
   "cell_type": "code",
   "execution_count": 53,
   "metadata": {
    "collapsed": false
   },
   "outputs": [
    {
     "name": "stdout",
     "output_type": "stream",
     "text": [
      "in the farm mr bennet are they not they are wanted in the farm mr bennet are they not they are wanted in the farm mr bennet are they not they are wanted in the farm much oftener than i\n"
     ]
    }
   ],
   "source": [
    "c3 = conditional_pdf(words, 3)\n",
    "print ' '.join(generate_text(c3, ('they', 'are', 'wanted'), 40))"
   ]
  },
  {
   "cell_type": "code",
   "execution_count": 54,
   "metadata": {
    "collapsed": false
   },
   "outputs": [
    {
     "name": "stdout",
     "output_type": "stream",
     "text": [
      "the farm mr bennet are they not they are wanted in the farm mr bennet are they not they are wanted in the farm mr bennet are they not they are wanted in the farm mr bennet are they not they are wanted in the farm mr bennet are they not they are wanted in the farm much oftener than i can get them but if you have got them today said elizabeth my mothers purpose will be answered she did at last extort from her father an acknowledgment that the horses were engaged jane was therefore obliged to go\n"
     ]
    }
   ],
   "source": [
    "c4 = conditional_pdf(words, 4)\n",
    "print ' '.join(generate_text(c4, ('they', 'are', 'wanted', 'in'), 100))"
   ]
  },
  {
   "cell_type": "code",
   "execution_count": null,
   "metadata": {
    "collapsed": true
   },
   "outputs": [],
   "source": []
  }
 ],
 "metadata": {
  "kernelspec": {
   "display_name": "Python 2",
   "language": "python",
   "name": "python2"
  },
  "language_info": {
   "codemirror_mode": {
    "name": "ipython",
    "version": 2
   },
   "file_extension": ".py",
   "mimetype": "text/x-python",
   "name": "python",
   "nbconvert_exporter": "python",
   "pygments_lexer": "ipython2",
   "version": "2.7.6"
  }
 },
 "nbformat": 4,
 "nbformat_minor": 0
}
